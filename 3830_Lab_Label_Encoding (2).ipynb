{
  "nbformat": 4,
  "nbformat_minor": 0,
  "metadata": {
    "colab": {
      "provenance": []
    },
    "kernelspec": {
      "name": "python3",
      "display_name": "Python 3"
    },
    "language_info": {
      "name": "python"
    }
  },
  "cells": [
    {
      "cell_type": "code",
      "source": [
        "import pandas as pd\n",
        "import numpy as np\n",
        "import matplotlib.pyplot as plt\n",
        "import seaborn as sns\n",
        "from sklearn.model_selection import train_test_split"
      ],
      "metadata": {
        "id": "Xf9zF5RXRJ0k"
      },
      "execution_count": null,
      "outputs": []
    },
    {
      "cell_type": "code",
      "source": [
        "df = pd.read_csv('CBB_Listings.csv')\n",
        "df.head(5)"
      ],
      "metadata": {
        "colab": {
          "base_uri": "https://localhost:8080/",
          "height": 516
        },
        "collapsed": true,
        "id": "eXg866hCRVbo",
        "outputId": "6b34444f-4f58-4d23-f56a-7779eda380a7"
      },
      "execution_count": null,
      "outputs": [
        {
          "output_type": "execute_result",
          "data": {
            "text/plain": [
              "                             listing_id                  listing_heading  \\\n",
              "0  f5b663d2-4896-11ef-a15b-8b4423f1ff08     1987 IROC Z  350 Auto T-Tops   \n",
              "1  a9f565e6-4712-11ef-a23f-79dc25c5e601                              NaN   \n",
              "2  03d18c58-253a-11ef-8f33-8905b4a2f000  1989 Cadillac DeVille Sedan FWD   \n",
              "3  2d12630b-460e-11ee-89c4-e5b3161d4741  1989 Cadillac DeVille Sedan FWD   \n",
              "4  53a8e550-47cd-11ef-8587-f926ecb61035  1989 Camaro IROC 350 Auto T-Top   \n",
              "\n",
              "  listing_type                                        listing_url  \\\n",
              "0       Active  https://www.kijiji.ca/v-cars-trucks/edmonton/1...   \n",
              "1         Sold  https://www.redlinemotors.ca/vehicle-details/1...   \n",
              "2       Active  https://www.sweetheartmotor.com/cars/used/1989...   \n",
              "3       Active  https://www.sweetheartmotor.com/cars/used/1989...   \n",
              "4       Active  https://www.kijiji.ca/v-cars-trucks/edmonton/1...   \n",
              "\n",
              "  listing_first_date  days_on_market  dealer_id  \\\n",
              "0     7/22/2024 0:00               9   11152931   \n",
              "1     7/20/2024 0:00               4   11131329   \n",
              "2      6/7/2024 0:00              54   11161704   \n",
              "3     8/28/2023 0:00             338   11128265   \n",
              "4     7/21/2024 0:00              10   11152931   \n",
              "\n",
              "                               dealer_name             dealer_street  \\\n",
              "0  David T's Camaro & Firebird Auto Center           10611 201 St NW   \n",
              "1                         Redlinemotors.Ca  14421 Mark Messier Trail   \n",
              "2  Gateway Auto & Rv Sales & Financing Ltd      5404 Gateway Blvd NW   \n",
              "3                            Credit Angels      5404 Gateway Blvd NW   \n",
              "4  David T's Camaro & Firebird Auto Center           10611 201 St NW   \n",
              "\n",
              "  dealer_city  ... wheelbase_from_vin drivetrain_from_vin engine_from_vin  \\\n",
              "0    Edmonton  ...                0.0                 RWD    5.7L V8 TBI    \n",
              "1    Edmonton  ...                0.0                 RWD        5.2L V8    \n",
              "2    Edmonton  ...                0.0                 FWD     4.5L V8 DI    \n",
              "3    Edmonton  ...                0.0                 FWD     4.5L V8 DI    \n",
              "4    Edmonton  ...                0.0                 RWD    5.7L V8 TBI    \n",
              "\n",
              "   transmission_from_vin fuel_type_from_vin number_price_changes  \\\n",
              "0                      A                Gas                    0   \n",
              "1                      A                Gas                    0   \n",
              "2                      A                Gas                    0   \n",
              "3                      A                Gas                    4   \n",
              "4                      A                Gas                    0   \n",
              "\n",
              "                             price_history_delimited  distance_to_dealer  \\\n",
              "0                            2024-07-22,11500,230860                9.84   \n",
              "1                              2024-07-20,8700,48905                8.30   \n",
              "2                             2024-06-07,6000,174640                5.71   \n",
              "3  2023-08-28,4500,174640:2023-09-13,5900,174640:...                5.71   \n",
              "4                             2024-07-21,8500,288000                9.84   \n",
              "\n",
              "  location_score  listing_dropoff_date  \n",
              "0              5                   NaN  \n",
              "1              5        7/24/2024 0:00  \n",
              "2              4                   NaN  \n",
              "3              5                   NaN  \n",
              "4              5                   NaN  \n",
              "\n",
              "[5 rows x 46 columns]"
            ],
            "text/html": [
              "\n",
              "  <div id=\"df-7d84f8f2-3e59-4dd0-985c-da88d6762361\" class=\"colab-df-container\">\n",
              "    <div>\n",
              "<style scoped>\n",
              "    .dataframe tbody tr th:only-of-type {\n",
              "        vertical-align: middle;\n",
              "    }\n",
              "\n",
              "    .dataframe tbody tr th {\n",
              "        vertical-align: top;\n",
              "    }\n",
              "\n",
              "    .dataframe thead th {\n",
              "        text-align: right;\n",
              "    }\n",
              "</style>\n",
              "<table border=\"1\" class=\"dataframe\">\n",
              "  <thead>\n",
              "    <tr style=\"text-align: right;\">\n",
              "      <th></th>\n",
              "      <th>listing_id</th>\n",
              "      <th>listing_heading</th>\n",
              "      <th>listing_type</th>\n",
              "      <th>listing_url</th>\n",
              "      <th>listing_first_date</th>\n",
              "      <th>days_on_market</th>\n",
              "      <th>dealer_id</th>\n",
              "      <th>dealer_name</th>\n",
              "      <th>dealer_street</th>\n",
              "      <th>dealer_city</th>\n",
              "      <th>...</th>\n",
              "      <th>wheelbase_from_vin</th>\n",
              "      <th>drivetrain_from_vin</th>\n",
              "      <th>engine_from_vin</th>\n",
              "      <th>transmission_from_vin</th>\n",
              "      <th>fuel_type_from_vin</th>\n",
              "      <th>number_price_changes</th>\n",
              "      <th>price_history_delimited</th>\n",
              "      <th>distance_to_dealer</th>\n",
              "      <th>location_score</th>\n",
              "      <th>listing_dropoff_date</th>\n",
              "    </tr>\n",
              "  </thead>\n",
              "  <tbody>\n",
              "    <tr>\n",
              "      <th>0</th>\n",
              "      <td>f5b663d2-4896-11ef-a15b-8b4423f1ff08</td>\n",
              "      <td>1987 IROC Z  350 Auto T-Tops</td>\n",
              "      <td>Active</td>\n",
              "      <td>https://www.kijiji.ca/v-cars-trucks/edmonton/1...</td>\n",
              "      <td>7/22/2024 0:00</td>\n",
              "      <td>9</td>\n",
              "      <td>11152931</td>\n",
              "      <td>David T's Camaro &amp; Firebird Auto Center</td>\n",
              "      <td>10611 201 St NW</td>\n",
              "      <td>Edmonton</td>\n",
              "      <td>...</td>\n",
              "      <td>0.0</td>\n",
              "      <td>RWD</td>\n",
              "      <td>5.7L V8 TBI</td>\n",
              "      <td>A</td>\n",
              "      <td>Gas</td>\n",
              "      <td>0</td>\n",
              "      <td>2024-07-22,11500,230860</td>\n",
              "      <td>9.84</td>\n",
              "      <td>5</td>\n",
              "      <td>NaN</td>\n",
              "    </tr>\n",
              "    <tr>\n",
              "      <th>1</th>\n",
              "      <td>a9f565e6-4712-11ef-a23f-79dc25c5e601</td>\n",
              "      <td>NaN</td>\n",
              "      <td>Sold</td>\n",
              "      <td>https://www.redlinemotors.ca/vehicle-details/1...</td>\n",
              "      <td>7/20/2024 0:00</td>\n",
              "      <td>4</td>\n",
              "      <td>11131329</td>\n",
              "      <td>Redlinemotors.Ca</td>\n",
              "      <td>14421 Mark Messier Trail</td>\n",
              "      <td>Edmonton</td>\n",
              "      <td>...</td>\n",
              "      <td>0.0</td>\n",
              "      <td>RWD</td>\n",
              "      <td>5.2L V8</td>\n",
              "      <td>A</td>\n",
              "      <td>Gas</td>\n",
              "      <td>0</td>\n",
              "      <td>2024-07-20,8700,48905</td>\n",
              "      <td>8.30</td>\n",
              "      <td>5</td>\n",
              "      <td>7/24/2024 0:00</td>\n",
              "    </tr>\n",
              "    <tr>\n",
              "      <th>2</th>\n",
              "      <td>03d18c58-253a-11ef-8f33-8905b4a2f000</td>\n",
              "      <td>1989 Cadillac DeVille Sedan FWD</td>\n",
              "      <td>Active</td>\n",
              "      <td>https://www.sweetheartmotor.com/cars/used/1989...</td>\n",
              "      <td>6/7/2024 0:00</td>\n",
              "      <td>54</td>\n",
              "      <td>11161704</td>\n",
              "      <td>Gateway Auto &amp; Rv Sales &amp; Financing Ltd</td>\n",
              "      <td>5404 Gateway Blvd NW</td>\n",
              "      <td>Edmonton</td>\n",
              "      <td>...</td>\n",
              "      <td>0.0</td>\n",
              "      <td>FWD</td>\n",
              "      <td>4.5L V8 DI</td>\n",
              "      <td>A</td>\n",
              "      <td>Gas</td>\n",
              "      <td>0</td>\n",
              "      <td>2024-06-07,6000,174640</td>\n",
              "      <td>5.71</td>\n",
              "      <td>4</td>\n",
              "      <td>NaN</td>\n",
              "    </tr>\n",
              "    <tr>\n",
              "      <th>3</th>\n",
              "      <td>2d12630b-460e-11ee-89c4-e5b3161d4741</td>\n",
              "      <td>1989 Cadillac DeVille Sedan FWD</td>\n",
              "      <td>Active</td>\n",
              "      <td>https://www.sweetheartmotor.com/cars/used/1989...</td>\n",
              "      <td>8/28/2023 0:00</td>\n",
              "      <td>338</td>\n",
              "      <td>11128265</td>\n",
              "      <td>Credit Angels</td>\n",
              "      <td>5404 Gateway Blvd NW</td>\n",
              "      <td>Edmonton</td>\n",
              "      <td>...</td>\n",
              "      <td>0.0</td>\n",
              "      <td>FWD</td>\n",
              "      <td>4.5L V8 DI</td>\n",
              "      <td>A</td>\n",
              "      <td>Gas</td>\n",
              "      <td>4</td>\n",
              "      <td>2023-08-28,4500,174640:2023-09-13,5900,174640:...</td>\n",
              "      <td>5.71</td>\n",
              "      <td>5</td>\n",
              "      <td>NaN</td>\n",
              "    </tr>\n",
              "    <tr>\n",
              "      <th>4</th>\n",
              "      <td>53a8e550-47cd-11ef-8587-f926ecb61035</td>\n",
              "      <td>1989 Camaro IROC 350 Auto T-Top</td>\n",
              "      <td>Active</td>\n",
              "      <td>https://www.kijiji.ca/v-cars-trucks/edmonton/1...</td>\n",
              "      <td>7/21/2024 0:00</td>\n",
              "      <td>10</td>\n",
              "      <td>11152931</td>\n",
              "      <td>David T's Camaro &amp; Firebird Auto Center</td>\n",
              "      <td>10611 201 St NW</td>\n",
              "      <td>Edmonton</td>\n",
              "      <td>...</td>\n",
              "      <td>0.0</td>\n",
              "      <td>RWD</td>\n",
              "      <td>5.7L V8 TBI</td>\n",
              "      <td>A</td>\n",
              "      <td>Gas</td>\n",
              "      <td>0</td>\n",
              "      <td>2024-07-21,8500,288000</td>\n",
              "      <td>9.84</td>\n",
              "      <td>5</td>\n",
              "      <td>NaN</td>\n",
              "    </tr>\n",
              "  </tbody>\n",
              "</table>\n",
              "<p>5 rows × 46 columns</p>\n",
              "</div>\n",
              "    <div class=\"colab-df-buttons\">\n",
              "\n",
              "  <div class=\"colab-df-container\">\n",
              "    <button class=\"colab-df-convert\" onclick=\"convertToInteractive('df-7d84f8f2-3e59-4dd0-985c-da88d6762361')\"\n",
              "            title=\"Convert this dataframe to an interactive table.\"\n",
              "            style=\"display:none;\">\n",
              "\n",
              "  <svg xmlns=\"http://www.w3.org/2000/svg\" height=\"24px\" viewBox=\"0 -960 960 960\">\n",
              "    <path d=\"M120-120v-720h720v720H120Zm60-500h600v-160H180v160Zm220 220h160v-160H400v160Zm0 220h160v-160H400v160ZM180-400h160v-160H180v160Zm440 0h160v-160H620v160ZM180-180h160v-160H180v160Zm440 0h160v-160H620v160Z\"/>\n",
              "  </svg>\n",
              "    </button>\n",
              "\n",
              "  <style>\n",
              "    .colab-df-container {\n",
              "      display:flex;\n",
              "      gap: 12px;\n",
              "    }\n",
              "\n",
              "    .colab-df-convert {\n",
              "      background-color: #E8F0FE;\n",
              "      border: none;\n",
              "      border-radius: 50%;\n",
              "      cursor: pointer;\n",
              "      display: none;\n",
              "      fill: #1967D2;\n",
              "      height: 32px;\n",
              "      padding: 0 0 0 0;\n",
              "      width: 32px;\n",
              "    }\n",
              "\n",
              "    .colab-df-convert:hover {\n",
              "      background-color: #E2EBFA;\n",
              "      box-shadow: 0px 1px 2px rgba(60, 64, 67, 0.3), 0px 1px 3px 1px rgba(60, 64, 67, 0.15);\n",
              "      fill: #174EA6;\n",
              "    }\n",
              "\n",
              "    .colab-df-buttons div {\n",
              "      margin-bottom: 4px;\n",
              "    }\n",
              "\n",
              "    [theme=dark] .colab-df-convert {\n",
              "      background-color: #3B4455;\n",
              "      fill: #D2E3FC;\n",
              "    }\n",
              "\n",
              "    [theme=dark] .colab-df-convert:hover {\n",
              "      background-color: #434B5C;\n",
              "      box-shadow: 0px 1px 3px 1px rgba(0, 0, 0, 0.15);\n",
              "      filter: drop-shadow(0px 1px 2px rgba(0, 0, 0, 0.3));\n",
              "      fill: #FFFFFF;\n",
              "    }\n",
              "  </style>\n",
              "\n",
              "    <script>\n",
              "      const buttonEl =\n",
              "        document.querySelector('#df-7d84f8f2-3e59-4dd0-985c-da88d6762361 button.colab-df-convert');\n",
              "      buttonEl.style.display =\n",
              "        google.colab.kernel.accessAllowed ? 'block' : 'none';\n",
              "\n",
              "      async function convertToInteractive(key) {\n",
              "        const element = document.querySelector('#df-7d84f8f2-3e59-4dd0-985c-da88d6762361');\n",
              "        const dataTable =\n",
              "          await google.colab.kernel.invokeFunction('convertToInteractive',\n",
              "                                                    [key], {});\n",
              "        if (!dataTable) return;\n",
              "\n",
              "        const docLinkHtml = 'Like what you see? Visit the ' +\n",
              "          '<a target=\"_blank\" href=https://colab.research.google.com/notebooks/data_table.ipynb>data table notebook</a>'\n",
              "          + ' to learn more about interactive tables.';\n",
              "        element.innerHTML = '';\n",
              "        dataTable['output_type'] = 'display_data';\n",
              "        await google.colab.output.renderOutput(dataTable, element);\n",
              "        const docLink = document.createElement('div');\n",
              "        docLink.innerHTML = docLinkHtml;\n",
              "        element.appendChild(docLink);\n",
              "      }\n",
              "    </script>\n",
              "  </div>\n",
              "\n",
              "\n",
              "<div id=\"df-0bca121e-8e6f-47a4-bf23-8da901386512\">\n",
              "  <button class=\"colab-df-quickchart\" onclick=\"quickchart('df-0bca121e-8e6f-47a4-bf23-8da901386512')\"\n",
              "            title=\"Suggest charts\"\n",
              "            style=\"display:none;\">\n",
              "\n",
              "<svg xmlns=\"http://www.w3.org/2000/svg\" height=\"24px\"viewBox=\"0 0 24 24\"\n",
              "     width=\"24px\">\n",
              "    <g>\n",
              "        <path d=\"M19 3H5c-1.1 0-2 .9-2 2v14c0 1.1.9 2 2 2h14c1.1 0 2-.9 2-2V5c0-1.1-.9-2-2-2zM9 17H7v-7h2v7zm4 0h-2V7h2v10zm4 0h-2v-4h2v4z\"/>\n",
              "    </g>\n",
              "</svg>\n",
              "  </button>\n",
              "\n",
              "<style>\n",
              "  .colab-df-quickchart {\n",
              "      --bg-color: #E8F0FE;\n",
              "      --fill-color: #1967D2;\n",
              "      --hover-bg-color: #E2EBFA;\n",
              "      --hover-fill-color: #174EA6;\n",
              "      --disabled-fill-color: #AAA;\n",
              "      --disabled-bg-color: #DDD;\n",
              "  }\n",
              "\n",
              "  [theme=dark] .colab-df-quickchart {\n",
              "      --bg-color: #3B4455;\n",
              "      --fill-color: #D2E3FC;\n",
              "      --hover-bg-color: #434B5C;\n",
              "      --hover-fill-color: #FFFFFF;\n",
              "      --disabled-bg-color: #3B4455;\n",
              "      --disabled-fill-color: #666;\n",
              "  }\n",
              "\n",
              "  .colab-df-quickchart {\n",
              "    background-color: var(--bg-color);\n",
              "    border: none;\n",
              "    border-radius: 50%;\n",
              "    cursor: pointer;\n",
              "    display: none;\n",
              "    fill: var(--fill-color);\n",
              "    height: 32px;\n",
              "    padding: 0;\n",
              "    width: 32px;\n",
              "  }\n",
              "\n",
              "  .colab-df-quickchart:hover {\n",
              "    background-color: var(--hover-bg-color);\n",
              "    box-shadow: 0 1px 2px rgba(60, 64, 67, 0.3), 0 1px 3px 1px rgba(60, 64, 67, 0.15);\n",
              "    fill: var(--button-hover-fill-color);\n",
              "  }\n",
              "\n",
              "  .colab-df-quickchart-complete:disabled,\n",
              "  .colab-df-quickchart-complete:disabled:hover {\n",
              "    background-color: var(--disabled-bg-color);\n",
              "    fill: var(--disabled-fill-color);\n",
              "    box-shadow: none;\n",
              "  }\n",
              "\n",
              "  .colab-df-spinner {\n",
              "    border: 2px solid var(--fill-color);\n",
              "    border-color: transparent;\n",
              "    border-bottom-color: var(--fill-color);\n",
              "    animation:\n",
              "      spin 1s steps(1) infinite;\n",
              "  }\n",
              "\n",
              "  @keyframes spin {\n",
              "    0% {\n",
              "      border-color: transparent;\n",
              "      border-bottom-color: var(--fill-color);\n",
              "      border-left-color: var(--fill-color);\n",
              "    }\n",
              "    20% {\n",
              "      border-color: transparent;\n",
              "      border-left-color: var(--fill-color);\n",
              "      border-top-color: var(--fill-color);\n",
              "    }\n",
              "    30% {\n",
              "      border-color: transparent;\n",
              "      border-left-color: var(--fill-color);\n",
              "      border-top-color: var(--fill-color);\n",
              "      border-right-color: var(--fill-color);\n",
              "    }\n",
              "    40% {\n",
              "      border-color: transparent;\n",
              "      border-right-color: var(--fill-color);\n",
              "      border-top-color: var(--fill-color);\n",
              "    }\n",
              "    60% {\n",
              "      border-color: transparent;\n",
              "      border-right-color: var(--fill-color);\n",
              "    }\n",
              "    80% {\n",
              "      border-color: transparent;\n",
              "      border-right-color: var(--fill-color);\n",
              "      border-bottom-color: var(--fill-color);\n",
              "    }\n",
              "    90% {\n",
              "      border-color: transparent;\n",
              "      border-bottom-color: var(--fill-color);\n",
              "    }\n",
              "  }\n",
              "</style>\n",
              "\n",
              "  <script>\n",
              "    async function quickchart(key) {\n",
              "      const quickchartButtonEl =\n",
              "        document.querySelector('#' + key + ' button');\n",
              "      quickchartButtonEl.disabled = true;  // To prevent multiple clicks.\n",
              "      quickchartButtonEl.classList.add('colab-df-spinner');\n",
              "      try {\n",
              "        const charts = await google.colab.kernel.invokeFunction(\n",
              "            'suggestCharts', [key], {});\n",
              "      } catch (error) {\n",
              "        console.error('Error during call to suggestCharts:', error);\n",
              "      }\n",
              "      quickchartButtonEl.classList.remove('colab-df-spinner');\n",
              "      quickchartButtonEl.classList.add('colab-df-quickchart-complete');\n",
              "    }\n",
              "    (() => {\n",
              "      let quickchartButtonEl =\n",
              "        document.querySelector('#df-0bca121e-8e6f-47a4-bf23-8da901386512 button');\n",
              "      quickchartButtonEl.style.display =\n",
              "        google.colab.kernel.accessAllowed ? 'block' : 'none';\n",
              "    })();\n",
              "  </script>\n",
              "</div>\n",
              "\n",
              "    </div>\n",
              "  </div>\n"
            ],
            "application/vnd.google.colaboratory.intrinsic+json": {
              "type": "dataframe",
              "variable_name": "df"
            }
          },
          "metadata": {},
          "execution_count": 2
        }
      ]
    },
    {
      "cell_type": "code",
      "source": [
        "print(df.shape)"
      ],
      "metadata": {
        "colab": {
          "base_uri": "https://localhost:8080/"
        },
        "id": "mAmh-vUMR0ey",
        "outputId": "f4b72b30-1035-4a50-af01-f04b576c12c5"
      },
      "execution_count": null,
      "outputs": [
        {
          "output_type": "stream",
          "name": "stdout",
          "text": [
            "(145114, 46)\n"
          ]
        }
      ]
    },
    {
      "cell_type": "code",
      "source": [
        "print(df.dtypes)"
      ],
      "metadata": {
        "collapsed": true,
        "colab": {
          "base_uri": "https://localhost:8080/"
        },
        "id": "myep6O2TSHBb",
        "outputId": "21de3365-5db0-4cd4-da86-c10de21eec00"
      },
      "execution_count": null,
      "outputs": [
        {
          "output_type": "stream",
          "name": "stdout",
          "text": [
            "listing_id                  object\n",
            "listing_heading             object\n",
            "listing_type                object\n",
            "listing_url                 object\n",
            "listing_first_date          object\n",
            "days_on_market               int64\n",
            "dealer_id                    int64\n",
            "dealer_name                 object\n",
            "dealer_street               object\n",
            "dealer_city                 object\n",
            "dealer_province             object\n",
            "dealer_postal_code          object\n",
            "dealer_url                  object\n",
            "dealer_email               float64\n",
            "dealer_phone                object\n",
            "dealer_type                 object\n",
            "stock_type                  object\n",
            "vehicle_id                   int64\n",
            "vin                         object\n",
            "uvc                          int64\n",
            "mileage                      int64\n",
            "price                        int64\n",
            "msrp                         int64\n",
            "model_year                   int64\n",
            "make                        object\n",
            "model                       object\n",
            "series                      object\n",
            "style                       object\n",
            "certified                    int64\n",
            "has_leather                  int64\n",
            "has_navigation               int64\n",
            "exterior_color              object\n",
            "exterior_color_category     object\n",
            "interior_color              object\n",
            "interior_color_category     object\n",
            "price_analysis               int64\n",
            "wheelbase_from_vin         float64\n",
            "drivetrain_from_vin         object\n",
            "engine_from_vin             object\n",
            "transmission_from_vin       object\n",
            "fuel_type_from_vin          object\n",
            "number_price_changes         int64\n",
            "price_history_delimited     object\n",
            "distance_to_dealer         float64\n",
            "location_score               int64\n",
            "listing_dropoff_date        object\n",
            "dtype: object\n"
          ]
        }
      ]
    },
    {
      "cell_type": "code",
      "source": [
        "df = df.drop(columns=[\"listing_id\", \"listing_heading\",  \"listing_url\", \"listing_first_date\", \"days_on_market\", \"dealer_id\", \"dealer_name\",\n",
        "                      \"dealer_street\", \"dealer_city\", \"dealer_province\", \"dealer_postal_code\", \"dealer_url\", \"dealer_email\", \"dealer_phone\", \"dealer_type\",\n",
        "                      \"vehicle_id\", \"vin\", \"uvc\", \"series\", \"style\", \"has_leather\", \"has_navigation\", \"price_analysis\",\n",
        "                      \"wheelbase_from_vin\", \"number_price_changes\", \"price_history_delimited\",\n",
        "                       \"distance_to_dealer\", \"location_score\", \"listing_dropoff_date\", \"exterior_color\",  \"interior_color\"])"
      ],
      "metadata": {
        "id": "Bqrcc5y_SKcL"
      },
      "execution_count": null,
      "outputs": []
    },
    {
      "cell_type": "code",
      "source": [
        "df.isnull().sum()"
      ],
      "metadata": {
        "colab": {
          "base_uri": "https://localhost:8080/",
          "height": 555
        },
        "collapsed": true,
        "id": "H7SxYEvq-QW4",
        "outputId": "4d773730-9229-4617-d948-e2f53ddebeb5"
      },
      "execution_count": null,
      "outputs": [
        {
          "output_type": "execute_result",
          "data": {
            "text/plain": [
              "listing_type                   0\n",
              "stock_type                     0\n",
              "mileage                        0\n",
              "price                          0\n",
              "msrp                           0\n",
              "model_year                     0\n",
              "make                           0\n",
              "model                          0\n",
              "certified                      0\n",
              "exterior_color_category    34947\n",
              "interior_color_category    58781\n",
              "drivetrain_from_vin            0\n",
              "engine_from_vin                0\n",
              "transmission_from_vin          0\n",
              "fuel_type_from_vin             0\n",
              "dtype: int64"
            ],
            "text/html": [
              "<div>\n",
              "<style scoped>\n",
              "    .dataframe tbody tr th:only-of-type {\n",
              "        vertical-align: middle;\n",
              "    }\n",
              "\n",
              "    .dataframe tbody tr th {\n",
              "        vertical-align: top;\n",
              "    }\n",
              "\n",
              "    .dataframe thead th {\n",
              "        text-align: right;\n",
              "    }\n",
              "</style>\n",
              "<table border=\"1\" class=\"dataframe\">\n",
              "  <thead>\n",
              "    <tr style=\"text-align: right;\">\n",
              "      <th></th>\n",
              "      <th>0</th>\n",
              "    </tr>\n",
              "  </thead>\n",
              "  <tbody>\n",
              "    <tr>\n",
              "      <th>listing_type</th>\n",
              "      <td>0</td>\n",
              "    </tr>\n",
              "    <tr>\n",
              "      <th>stock_type</th>\n",
              "      <td>0</td>\n",
              "    </tr>\n",
              "    <tr>\n",
              "      <th>mileage</th>\n",
              "      <td>0</td>\n",
              "    </tr>\n",
              "    <tr>\n",
              "      <th>price</th>\n",
              "      <td>0</td>\n",
              "    </tr>\n",
              "    <tr>\n",
              "      <th>msrp</th>\n",
              "      <td>0</td>\n",
              "    </tr>\n",
              "    <tr>\n",
              "      <th>model_year</th>\n",
              "      <td>0</td>\n",
              "    </tr>\n",
              "    <tr>\n",
              "      <th>make</th>\n",
              "      <td>0</td>\n",
              "    </tr>\n",
              "    <tr>\n",
              "      <th>model</th>\n",
              "      <td>0</td>\n",
              "    </tr>\n",
              "    <tr>\n",
              "      <th>certified</th>\n",
              "      <td>0</td>\n",
              "    </tr>\n",
              "    <tr>\n",
              "      <th>exterior_color_category</th>\n",
              "      <td>34947</td>\n",
              "    </tr>\n",
              "    <tr>\n",
              "      <th>interior_color_category</th>\n",
              "      <td>58781</td>\n",
              "    </tr>\n",
              "    <tr>\n",
              "      <th>drivetrain_from_vin</th>\n",
              "      <td>0</td>\n",
              "    </tr>\n",
              "    <tr>\n",
              "      <th>engine_from_vin</th>\n",
              "      <td>0</td>\n",
              "    </tr>\n",
              "    <tr>\n",
              "      <th>transmission_from_vin</th>\n",
              "      <td>0</td>\n",
              "    </tr>\n",
              "    <tr>\n",
              "      <th>fuel_type_from_vin</th>\n",
              "      <td>0</td>\n",
              "    </tr>\n",
              "  </tbody>\n",
              "</table>\n",
              "</div><br><label><b>dtype:</b> int64</label>"
            ]
          },
          "metadata": {},
          "execution_count": 6
        }
      ]
    },
    {
      "cell_type": "code",
      "source": [
        "# replacing null values in exterior_color_category\n",
        "df['exterior_color_category'] = df['exterior_color_category'].fillna(df['exterior_color_category'].mode()[0])\n",
        "\n",
        "# replacing null values in interior_color_category\n",
        "df['interior_color_category'] = df['interior_color_category'].fillna(df['interior_color_category'].mode()[0])"
      ],
      "metadata": {
        "id": "ce4r0q5P9wFG"
      },
      "execution_count": null,
      "outputs": []
    },
    {
      "cell_type": "code",
      "source": [
        "df.isnull().sum()"
      ],
      "metadata": {
        "colab": {
          "base_uri": "https://localhost:8080/",
          "height": 555
        },
        "id": "5MTDB4GvVGpf",
        "outputId": "d44981b3-4c2f-432f-a2b0-970b9cf4bd23",
        "collapsed": true
      },
      "execution_count": null,
      "outputs": [
        {
          "output_type": "execute_result",
          "data": {
            "text/plain": [
              "listing_type               0\n",
              "stock_type                 0\n",
              "mileage                    0\n",
              "price                      0\n",
              "msrp                       0\n",
              "model_year                 0\n",
              "make                       0\n",
              "model                      0\n",
              "certified                  0\n",
              "exterior_color_category    0\n",
              "interior_color_category    0\n",
              "drivetrain_from_vin        0\n",
              "engine_from_vin            0\n",
              "transmission_from_vin      0\n",
              "fuel_type_from_vin         0\n",
              "dtype: int64"
            ],
            "text/html": [
              "<div>\n",
              "<style scoped>\n",
              "    .dataframe tbody tr th:only-of-type {\n",
              "        vertical-align: middle;\n",
              "    }\n",
              "\n",
              "    .dataframe tbody tr th {\n",
              "        vertical-align: top;\n",
              "    }\n",
              "\n",
              "    .dataframe thead th {\n",
              "        text-align: right;\n",
              "    }\n",
              "</style>\n",
              "<table border=\"1\" class=\"dataframe\">\n",
              "  <thead>\n",
              "    <tr style=\"text-align: right;\">\n",
              "      <th></th>\n",
              "      <th>0</th>\n",
              "    </tr>\n",
              "  </thead>\n",
              "  <tbody>\n",
              "    <tr>\n",
              "      <th>listing_type</th>\n",
              "      <td>0</td>\n",
              "    </tr>\n",
              "    <tr>\n",
              "      <th>stock_type</th>\n",
              "      <td>0</td>\n",
              "    </tr>\n",
              "    <tr>\n",
              "      <th>mileage</th>\n",
              "      <td>0</td>\n",
              "    </tr>\n",
              "    <tr>\n",
              "      <th>price</th>\n",
              "      <td>0</td>\n",
              "    </tr>\n",
              "    <tr>\n",
              "      <th>msrp</th>\n",
              "      <td>0</td>\n",
              "    </tr>\n",
              "    <tr>\n",
              "      <th>model_year</th>\n",
              "      <td>0</td>\n",
              "    </tr>\n",
              "    <tr>\n",
              "      <th>make</th>\n",
              "      <td>0</td>\n",
              "    </tr>\n",
              "    <tr>\n",
              "      <th>model</th>\n",
              "      <td>0</td>\n",
              "    </tr>\n",
              "    <tr>\n",
              "      <th>certified</th>\n",
              "      <td>0</td>\n",
              "    </tr>\n",
              "    <tr>\n",
              "      <th>exterior_color_category</th>\n",
              "      <td>0</td>\n",
              "    </tr>\n",
              "    <tr>\n",
              "      <th>interior_color_category</th>\n",
              "      <td>0</td>\n",
              "    </tr>\n",
              "    <tr>\n",
              "      <th>drivetrain_from_vin</th>\n",
              "      <td>0</td>\n",
              "    </tr>\n",
              "    <tr>\n",
              "      <th>engine_from_vin</th>\n",
              "      <td>0</td>\n",
              "    </tr>\n",
              "    <tr>\n",
              "      <th>transmission_from_vin</th>\n",
              "      <td>0</td>\n",
              "    </tr>\n",
              "    <tr>\n",
              "      <th>fuel_type_from_vin</th>\n",
              "      <td>0</td>\n",
              "    </tr>\n",
              "  </tbody>\n",
              "</table>\n",
              "</div><br><label><b>dtype:</b> int64</label>"
            ]
          },
          "metadata": {},
          "execution_count": 8
        }
      ]
    },
    {
      "cell_type": "code",
      "source": [
        "# Check for duplicate rows\n",
        "print(df.duplicated().sum())"
      ],
      "metadata": {
        "colab": {
          "base_uri": "https://localhost:8080/"
        },
        "id": "6hdrES4-VOHo",
        "outputId": "e7d6621e-1820-4b71-f9a9-5dd2f4b62f03"
      },
      "execution_count": null,
      "outputs": [
        {
          "output_type": "stream",
          "name": "stdout",
          "text": [
            "29776\n"
          ]
        }
      ]
    },
    {
      "cell_type": "code",
      "source": [
        "# Drop duplicate rows\n",
        "df.drop_duplicates(inplace=True)\n",
        "\n",
        "# Verify the dataset shape after removing duplicates\n",
        "print(\"Dataset shape after removing duplicates:\", df.shape)"
      ],
      "metadata": {
        "colab": {
          "base_uri": "https://localhost:8080/"
        },
        "id": "oYQEnuHDre55",
        "outputId": "10b9a6cf-408d-4757-8b3b-411317b94b0b"
      },
      "execution_count": null,
      "outputs": [
        {
          "output_type": "stream",
          "name": "stdout",
          "text": [
            "Dataset shape after removing duplicates: (115338, 15)\n"
          ]
        }
      ]
    },
    {
      "cell_type": "code",
      "source": [
        "print(df.duplicated().sum())"
      ],
      "metadata": {
        "colab": {
          "base_uri": "https://localhost:8080/"
        },
        "id": "rPjcgrmHsH_I",
        "outputId": "7d6364a7-1384-4879-f0c6-dbd3c0b480bb"
      },
      "execution_count": null,
      "outputs": [
        {
          "output_type": "stream",
          "name": "stdout",
          "text": [
            "0\n"
          ]
        }
      ]
    },
    {
      "cell_type": "code",
      "source": [
        "# Select numerical columns\n",
        "numeric_cols = df.select_dtypes(include=['number']).columns\n",
        "\n",
        "# Function to detect outliers using IQR\n",
        "def detect_outliers(df, column):\n",
        "    Q1 = df[column].quantile(0.25)\n",
        "    Q3 = df[column].quantile(0.75)\n",
        "    IQR = Q3 - Q1\n",
        "    lower_bound = Q1 - 1.5 * IQR\n",
        "    upper_bound = Q3 + 1.5 * IQR\n",
        "    outliers = df[(df[column] < lower_bound) | (df[column] > upper_bound)]\n",
        "    return len(outliers)\n",
        "\n",
        "# Count and display number of outliers per column\n",
        "outlier_counts = {col: detect_outliers(df, col) for col in numeric_cols}\n",
        "print(\"Outliers detected in each column:\")\n",
        "print(outlier_counts)\n",
        "\n",
        "# Plot boxplots in a single figure\n",
        "plt.figure(figsize=(12, 6))\n",
        "for i, col in enumerate(numeric_cols, 1):\n",
        "    plt.subplot(2, len(numeric_cols)//2 + 1, i)\n",
        "    sns.boxplot(x=df[col])\n",
        "    plt.title(col)\n",
        "plt.tight_layout()\n",
        "plt.show()\n"
      ],
      "metadata": {
        "colab": {
          "base_uri": "https://localhost:8080/",
          "height": 642
        },
        "collapsed": true,
        "id": "xHd_SVH5QHJh",
        "outputId": "1431f62e-753f-44d1-da68-6c14e89aa2cb"
      },
      "execution_count": null,
      "outputs": [
        {
          "output_type": "stream",
          "name": "stdout",
          "text": [
            "Outliers detected in each column:\n",
            "{'mileage': 3177, 'price': 2455, 'msrp': 2375, 'model_year': 4327, 'certified': 946}\n"
          ]
        },
        {
          "output_type": "display_data",
          "data": {
            "text/plain": [
              "<Figure size 1200x600 with 5 Axes>"
            ],
            "image/png": "[encoded data removed]"
          },
          "metadata": {}
        }
      ]
    },
    {
      "cell_type": "code",
      "source": [
        "# Function to remove outliers using IQR\n",
        "def remove_outliers(df, column, threshold=1.5):\n",
        "    Q1 = df[column].quantile(0.25)\n",
        "    Q3 = df[column].quantile(0.75)\n",
        "    IQR = Q3 - Q1\n",
        "    lower_bound = Q1 - threshold * IQR\n",
        "    upper_bound = Q3 + threshold * IQR\n",
        "    before = df.shape[0]\n",
        "    df = df[(df[column] >= lower_bound) & (df[column] <= upper_bound)]\n",
        "    after = df.shape[0]\n",
        "    print(f\"{column}: Removed {before - after} outliers with threshold {threshold}\")\n",
        "    return df\n",
        "\n",
        "# List of numerical columns to remove outliers\n",
        "numeric_cols = [\"mileage\", \"price\", \"msrp\", \"model_year\", \"certified\"]\n",
        "\n",
        "# Remove outliers for each numeric column\n",
        "for col in numeric_cols:\n",
        "    df = remove_outliers(df, col, threshold=1.5)\n",
        "\n",
        "# Fix unrealistic model years (Ensures valid car production years)\n",
        "df = df[(df[\"model_year\"] >= 1900) & (df[\"model_year\"] <= 2025)]\n",
        "\n",
        "# Fix errors in certified column (Ensures only 0 or 1 values)\n",
        "df = df[df[\"certified\"].isin([0, 1])]\n",
        "\n",
        "# Display final dataset shape\n",
        "print(\"Final dataset shape after all outlier handling:\", df.shape)"
      ],
      "metadata": {
        "colab": {
          "base_uri": "https://localhost:8080/"
        },
        "id": "sod-KZfRAVb3",
        "outputId": "22ccbfe7-a478-49a4-de88-75c4a83c9efe"
      },
      "execution_count": null,
      "outputs": [
        {
          "output_type": "stream",
          "name": "stdout",
          "text": [
            "mileage: Removed 3177 outliers with threshold 1.5\n",
            "price: Removed 2407 outliers with threshold 1.5\n",
            "msrp: Removed 1033 outliers with threshold 1.5\n",
            "model_year: Removed 2728 outliers with threshold 1.5\n",
            "certified: Removed 922 outliers with threshold 1.5\n",
            "Final dataset shape after all outlier handling: (105071, 15)\n"
          ]
        }
      ]
    },
    {
      "cell_type": "code",
      "source": [
        "# Check if outliers are actually present\n",
        "for col in [\"mileage\", \"price\", \"msrp\",\"model_year\",\"certified\"]:\n",
        "    print(f\"Outliers in {col} using IQR 1.5:\", detect_outliers(df, col))"
      ],
      "metadata": {
        "colab": {
          "base_uri": "https://localhost:8080/"
        },
        "id": "8hg5GynzTAK8",
        "outputId": "2c3af1ca-db04-4d70-88d4-68fc4c699502"
      },
      "execution_count": null,
      "outputs": [
        {
          "output_type": "stream",
          "name": "stdout",
          "text": [
            "Outliers in mileage using IQR 1.5: 916\n",
            "Outliers in price using IQR 1.5: 519\n",
            "Outliers in msrp using IQR 1.5: 312\n",
            "Outliers in model_year using IQR 1.5: 0\n",
            "Outliers in certified using IQR 1.5: 0\n"
          ]
        }
      ]
    },
    {
      "cell_type": "code",
      "source": [
        "# Replot boxplots to check if outliers are removed\n",
        "for col in numeric_cols:\n",
        "    plt.figure(figsize=(8, 4))\n",
        "    sns.boxplot(x=df[col])\n",
        "    plt.title(f'Boxplot of {col} (After Outlier Removal)')\n",
        "    plt.show()"
      ],
      "metadata": {
        "colab": {
          "base_uri": "https://localhost:8080/",
          "height": 1000
        },
        "id": "V8fFKmWZAjCG",
        "outputId": "662f378d-33e1-4757-fa4d-a57b94496b1e",
        "collapsed": true
      },
      "execution_count": null,
      "outputs": [
        {
          "output_type": "display_data",
          "data": {
            "text/plain": [
              "<Figure size 800x400 with 1 Axes>"
            ],
            "image/png": "[encoded data removed]"
          },
          "metadata": {}
        },
        {
          "output_type": "display_data",
          "data": {
            "text/plain": [
              "<Figure size 800x400 with 1 Axes>"
            ],
            "image/png": "[encoded data removed]"
          },
          "metadata": {}
        },
        {
          "output_type": "display_data",
          "data": {
            "text/plain": [
              "<Figure size 800x400 with 1 Axes>"
            ],
            "image/png": "[encoded data removed]"
          },
          "metadata": {}
        },
        {
          "output_type": "display_data",
          "data": {
            "text/plain": [
              "<Figure size 800x400 with 1 Axes>"
            ],
            "image/png": "[encoded data removed]"
          },
          "metadata": {}
        },
        {
          "output_type": "display_data",
          "data": {
            "text/plain": [
              "<Figure size 800x400 with 1 Axes>"
            ],
            "image/png": "[encoded data removed]"
          },
          "metadata": {}
        }
      ]
    },
    {
      "cell_type": "code",
      "source": [
        "# Histogram of Vehicle Prices\n",
        "plt.figure(figsize=(10, 5))\n",
        "sns.histplot(df['price'], bins=30, kde=True)\n",
        "plt.title(\"Histogram of Vehicle Prices\")\n",
        "plt.xlabel(\"Price\")\n",
        "plt.ylabel(\"Frequency\")\n",
        "plt.show()\n",
        "\n",
        "# Histogram of Mileage\n",
        "plt.figure(figsize=(10, 5))\n",
        "sns.histplot(df['mileage'] , kde=True)\n",
        "plt.title(\"Histogram of Mileage\")\n",
        "plt.xlabel(\"Mileage\")\n",
        "plt.ylabel(\"Frequency\")\n",
        "plt.show()\n",
        "\n",
        "# Line Graph - Price Trend Across Vehicle Years\n",
        "plt.figure(figsize=(12, 5))\n",
        "df.groupby('model_year')['price'].mean().plot(kind='line', marker='o', linestyle='-', color='blue')\n",
        "plt.title(\"Average Price Trend Across Model Years\")\n",
        "plt.xlabel(\"Model Year\")\n",
        "plt.ylabel(\"Average Price\")\n",
        "plt.grid(True)\n",
        "plt.show()\n",
        "\n",
        "# Line Graph - Mileage Trend Across Vehicle Years\n",
        "plt.figure(figsize=(12, 5))\n",
        "df.groupby('model_year')['mileage'].mean().plot(kind='line', marker='o', linestyle='-', color='green')\n",
        "plt.title(\"Average Mileage Trend Across Model Years\")\n",
        "plt.xlabel(\"Model Year\")\n",
        "plt.ylabel(\"Average Mileage\")\n",
        "plt.grid(True)\n",
        "plt.show()\n"
      ],
      "metadata": {
        "colab": {
          "base_uri": "https://localhost:8080/",
          "height": 1000
        },
        "collapsed": true,
        "id": "ZzFiPHMesV0q",
        "outputId": "3a74fbec-302d-45bf-9ce9-9a3b0035e84b"
      },
      "execution_count": null,
      "outputs": [
        {
          "output_type": "display_data",
          "data": {
            "text/plain": [
              "<Figure size 1000x500 with 1 Axes>"
            ],
            "image/png": "[encoded data removed]"
          },
          "metadata": {}
        },
        {
          "output_type": "display_data",
          "data": {
            "text/plain": [
              "<Figure size 1000x500 with 1 Axes>"
            ],
            "image/png": "[encoded data removed]"
          },
          "metadata": {}
        },
        {
          "output_type": "display_data",
          "data": {
            "text/plain": [
              "<Figure size 1200x500 with 1 Axes>"
            ],
            "image/png": "[encoded data removed]"
          },
          "metadata": {}
        },
        {
          "output_type": "display_data",
          "data": {
            "text/plain": [
              "<Figure size 1200x500 with 1 Axes>"
            ],
            "image/png": "[encoded data removed]"
          },
          "metadata": {}
        }
      ]
    },
    {
      "cell_type": "code",
      "source": [
        "# Select categorical columns\n",
        "categorical_cols = df.select_dtypes(include=['object']).columns\n",
        "\n",
        "# Print categorical columns\n",
        "print(\"Categorical Columns in the Dataset:\")\n",
        "print(categorical_cols.tolist())\n"
      ],
      "metadata": {
        "id": "ZY-puDPPzOvP",
        "colab": {
          "base_uri": "https://localhost:8080/"
        },
        "outputId": "a7f4dae2-e734-49b2-ec28-4458522f4b96"
      },
      "execution_count": null,
      "outputs": [
        {
          "output_type": "stream",
          "name": "stdout",
          "text": [
            "Categorical Columns in the Dataset:\n",
            "['listing_type', 'stock_type', 'make', 'model', 'exterior_color_category', 'interior_color_category', 'drivetrain_from_vin', 'engine_from_vin', 'transmission_from_vin', 'fuel_type_from_vin']\n"
          ]
        }
      ]
    },
    {
      "cell_type": "code",
      "source": [
        "# List of columns to check unique values for\n",
        "columns_to_check = ['certified','listing_type', 'stock_type', 'make', 'model', 'exterior_color_category',\n",
        "                    'interior_color_category', 'drivetrain_from_vin', 'engine_from_vin', 'transmission_from_vin', 'fuel_type_from_vin']\n",
        "\n",
        "\n",
        "# Print unique values for each column\n",
        "for col in columns_to_check:\n",
        "    print(f\"Unique values in {col}:\")\n",
        "    print(df[col].unique())\n",
        "    print(\"-\" * 50)  # Adds a separator for readability"
      ],
      "metadata": {
        "colab": {
          "base_uri": "https://localhost:8080/"
        },
        "collapsed": true,
        "id": "uzHpEzDqWE24",
        "outputId": "f237ecfb-b277-4f2b-9b6b-a1bf424fdb8e"
      },
      "execution_count": null,
      "outputs": [
        {
          "output_type": "stream",
          "name": "stdout",
          "text": [
            "Unique values in certified:\n",
            "[0]\n",
            "--------------------------------------------------\n",
            "Unique values in listing_type:\n",
            "['Active' 'Sold']\n",
            "--------------------------------------------------\n",
            "Unique values in stock_type:\n",
            "['USED' 'NEW']\n",
            "--------------------------------------------------\n",
            "Unique values in make:\n",
            "['Acura' 'Audi' 'BMW' 'Buick' 'Cadillac' 'Chevrolet' 'Chrysler' 'Dodge'\n",
            " 'Fiat' 'Ford' 'GMC' 'Honda' 'Hyundai' 'Infiniti' 'Jaguar' 'Jeep' 'Kia'\n",
            " 'Land Rover' 'Lexus' 'Lincoln' 'Maserati' 'Mazda' 'Mercedes-Benz' 'Mini'\n",
            " 'Mitsubishi' 'Nissan' 'Porsche' 'Ram' 'Smart' 'Subaru' 'Toyota'\n",
            " 'Volkswagen' 'Alfa Romeo' 'Tesla' 'Volvo' 'Scion' 'Genesis' 'Polestar'\n",
            " 'Fisker']\n",
            "--------------------------------------------------\n",
            "Unique values in model:\n",
            "['MDX' 'RDX' 'RLX' 'TL' 'A4' 'A5' 'A6' 'Q5' 'Q7' 'S5' 'S6' 'S7' '3-Series'\n",
            " '4-Series' '5-Series' 'X1' 'X3' 'X5' 'X6' 'Enclave' 'Encore' 'Verano'\n",
            " 'ATS' 'CTS Sedan' 'Escalade' 'SRX' 'Camaro' 'Corvette' 'Cruze' 'Equinox'\n",
            " 'Express Cargo' 'Impala' 'Silverado 1500' 'Silverado 2500'\n",
            " 'Silverado 3500' 'Sonic' 'Traverse' 'Trax' '200' '300' 'Town & Country'\n",
            " 'Challenger' 'Charger' 'Dart' 'Durango' 'Grand Caravan' 'Journey' '500'\n",
            " '500L' 'E150 Vans' 'E350 Vans' 'Edge' 'Escape' 'Expedition Max'\n",
            " 'Explorer' 'F150' 'F250 S/D' 'F350 S/D' 'Fiesta' 'Flex' 'Focus' 'Fusion'\n",
            " 'Mustang' 'Taurus' 'Transit Connect' 'Acadia' 'Savana Cargo'\n",
            " 'Sierra 1500' 'Sierra 2500' 'Sierra 3500' 'Terrain' 'Yukon XL 1500'\n",
            " 'Accord' 'CR-V' 'Civic' 'Fit' 'Odyssey' 'Pilot' 'Accent' 'Elantra'\n",
            " 'Elantra GT' 'Genesis Coupe' 'Santa Fe Sport' 'Santa Fe XL' 'Sonata'\n",
            " 'Tucson' 'Veloster' 'Q50' 'Q60' 'QX50' 'QX60' 'QX80' 'F-Type' 'XF'\n",
            " 'Cherokee' 'Compass' 'Grand Cherokee' 'Patriot' 'Wrangler' 'Forte'\n",
            " 'Optima' 'Rio' 'Rondo' 'Sorento' 'Soul' 'Sportage' 'Range Rover Evoque'\n",
            " 'Range Rover Sport' 'ES300h' 'IS-Series' 'MKX' 'Navigator' 'Ghibli'\n",
            " 'CX-5' 'Mazda3' 'Mazda6' 'B-Class' 'C-Class' 'CLA-Class' 'CLS-Class'\n",
            " 'E-Class' 'GLK-Class' 'M-Class' 'Countryman' 'Hatchback' 'Paceman'\n",
            " 'Lancer' 'Mirage' 'Outlander' 'RVR' 'i-MiEV' '370Z' 'Altima' 'Frontier'\n",
            " 'Juke' 'Leaf' 'Maxima' 'Murano' 'NV 3500 Van' 'Pathfinder' 'Rogue'\n",
            " 'Sentra' 'Titan' 'Versa' 'Versa Note' 'Boxster' 'Cayenne' '1500' '2500'\n",
            " '3500' 'ProMaster' 'Fortwo' 'Forester' 'Impreza' 'Outback' 'XV Crosstrek'\n",
            " '4Runner' 'Camry' 'Corolla' 'Highlander' 'Matrix' 'Prius V' 'Rav4'\n",
            " 'Sequoia' 'Sienna' 'Tacoma' 'Tundra' 'Venza' 'Yaris' 'Beetle' 'CC' 'Golf'\n",
            " 'Jetta' 'Passat' 'Tiguan' 'Touareg' 'TLX' '4C' 'A3' 'A8' 'Q3' 'RS 5' 'S4'\n",
            " 'SQ5' '2-Series' '6-Series' 'X4' 'Z4' 'i3' 'ATS Coupe' 'ATS Sedan' 'XTS'\n",
            " 'City Express' 'Colorado' 'Malibu' 'Spark' 'Suburban' 'Tahoe' 'Volt'\n",
            " 'CMax' 'Expedition' 'Transit 150' 'Transit 250' 'Canyon' 'Savana' 'Yukon'\n",
            " 'Yukon XL' 'Genesis Sedan' 'XJ' 'Renegade' 'Sedona' 'Discovery Sport'\n",
            " 'GX460' 'NX 200t' 'NX 300h' 'RC 350' 'RC F' 'RX350' 'MKC' 'MKS' 'CX-9'\n",
            " 'Mazda5' 'GL-Class' 'GLA-Class' 'SLK-Class' 'Convertible' 'Armada'\n",
            " 'Micra' 'NV200' 'Xterra' 'Cayman' 'Macan' 'ProMaster City' 'Van' 'Legacy'\n",
            " 'Model S' 'Prius C' 'GTI' 'Golf Sportwagen' 'S60 2015.5' 'V60 2015.5'\n",
            " 'XC60 2015.5' 'ILX' 'S3' 'TT' 'Envision' 'Regal' 'Cruze Limited'\n",
            " 'Malibu Limited' 'Spark EV' '500X' 'Transit 350' 'HR-V' 'QX70' 'LR4'\n",
            " 'GS-Series' 'RC-Series' 'RX450h' 'MKZ' 'CX-3' 'CX-5 2016.5' 'MX5'\n",
            " 'GLC-Class' 'GLE-Class' 'Metris' 'Sprinter 2500 Cargo' 'NV 2500 Van'\n",
            " 'Titan XD' '911' 'FR-S' 'tC' 'BRZ' 'Crosstrek' 'Model X' 'Avalon' 'Prius'\n",
            " 'Golf R' 'S60' 'XC90' 'Giulia' 'A7' 'XT5' 'Bolt EV' 'Express' 'Pacifica'\n",
            " '124 Spider' 'Ridgeline' 'Ioniq' 'QX30' 'F-Pace' 'XE' 'Compass 2017.5'\n",
            " 'Niro' 'Discovery' 'ES350' 'Continental' 'Levante' 'MX5 RF' 'GLS-Class'\n",
            " 'Clubman' 'Mirage G4' 'Qashqai' '86' 'Corolla iM' 'Prius Prime'\n",
            " 'Golf AllTrack' 'e-Golf' 'S90' 'V60' 'V90' 'XC60' 'Stelvio' 'RS 3'\n",
            " 'TT RS' 'X2' 'CT6' 'EcoSport' 'Transit 350HD' 'G80' 'G90' 'Clarity'\n",
            " 'Kona' 'E-Pace' 'Wrangler JK' 'Wrangler JL 2018.5' 'Stinger'\n",
            " 'Range Rover Velar' 'LS 500' 'NX 300' 'RX350L' 'SLC-Class'\n",
            " 'Sprinter 2500' 'Eclipse Cross' 'Kicks' '718 Boxster' 'Model 3' 'C-HR'\n",
            " 'Atlas' 'Q8' 'e-tron' 'X7' 'XT4' 'Blazer' 'New Silverado 1500'\n",
            " 'Silverado LD 1500' 'Ranger' 'New Sierra 1500' 'Sierra Limited 1500'\n",
            " 'G70' 'Insight' 'Passport' 'Kona EV' 'Santa Fe' 'Q70' 'I-Pace' 'UX250h'\n",
            " 'Nautilus' 'A-Class' '1500 Classic' 'Ascent' 'Mirai' 'Arteon' 'XC40'\n",
            " 'CT4' 'CT5' 'XT6' 'Palisade' 'Venue' 'Gladiator' 'Forte5' 'Telluride'\n",
            " 'Defender 110' 'Aviator' 'Corsair' 'CX-30' 'GLB-Class' 'WRX' 'Model Y'\n",
            " 'GR Supra' 'Atlas Cross Sport' 'Trailblazer' 'Bronco' 'Bronco Sport'\n",
            " 'Mustang MACH-E' 'GV80' 'Grand Cherokee L' 'K5' 'Seltos' 'ES250'\n",
            " 'UX-Series' 'Sprinter 3500XD' 'Polestar 2' 'Rav4 Prime' 'ID.4'\n",
            " 'Q4 e-tron' 'i4' 'iX' 'Bolt EUV' 'Silverado 1500 LTD' 'F150 Lightning'\n",
            " 'Maverick' 'Sierra 1500 LTD' 'GV70' 'Ioniq 5' 'Santa Cruz' 'QX55'\n",
            " 'Grand Cherokee WK' 'Grand Wagoneer' 'Wagoneer' 'Carnival' 'EV6'\n",
            " 'NX-Series' 'MX-30' 'EQB' 'Sprinter 2500 Crew' 'Sprinter 3500 Cargo'\n",
            " 'Corolla Cross' 'GR86' 'Taos' 'Integra' 'Tonale' 'TTS' 'M2' 'Hornet'\n",
            " 'Ocean' 'E-Transit 350' 'GV60' 'Ioniq 6' 'Wagoneer L' 'Defender 90'\n",
            " 'RX350h' 'RX500h' 'Grecale' 'CX-50' 'EQE' 'EQE SUV' 'Ariya' 'Z'\n",
            " '718 Cayman' 'Solterra' 'Crown' 'GR Corolla' 'bZ4X' 'C40' 'ZDX'\n",
            " 'A4 Allroad' 'A6 Allroad' 'Q8 e-tron' 'M3' 'M4' 'i5' 'Encore GX'\n",
            " 'Envista' 'Lyriq' 'Blazer EV' 'Equinox EV' 'Silverado EV' '500e'\n",
            " 'Commercial Vans' 'F450 S/D' 'S/D C/C' 'EV9' 'Defender' 'ES-Series'\n",
            " 'GX-Series' 'RX-Series' 'TX-Series' 'CX-90' 'MX-5' 'CLA' 'CLE' 'GLA'\n",
            " 'GLB' 'GLC' 'Sprinter 3500' 'eSprinter 2500' 'Cooper' 'Cooper Countryman'\n",
            " '1500 ProMaster' '2500 ProMaster' '3500 Cab/Chassis' '3500 ProMaster'\n",
            " '4500' 'Grand Highlander' 'Land Cruiser']\n",
            "--------------------------------------------------\n",
            "Unique values in exterior_color_category:\n",
            "['gray' 'white' 'black' 'silver' 'blue' 'green,white' 'gray,silver'\n",
            " 'brown' 'gray,black' 'red' 'yellow,gray,beige,silver' 'green' 'blue,gray'\n",
            " 'purple' 'beige' 'orange' 'gold' 'yellow' 'gray,beige,silver'\n",
            " 'gray,beige' 'beige,brown' 'blue,black' 'white,silver' 'gray,gold,beige'\n",
            " 'gray,red' 'black,purple' 'gold,beige,brown' 'orange,beige'\n",
            " 'gray,beige,silver,black' 'blue,beige' 'gold,beige,black' 'orange,blue'\n",
            " 'red,black' 'blue,white' 'green,black' 'gray,white,silver' 'gray,brown'\n",
            " 'gold,beige' 'yellow,beige' 'white,beige' 'beige,red' 'gold,white'\n",
            " 'blue,red' 'yellow,gold,beige' 'yellow,white' 'gold,brown' 'silver,black'\n",
            " 'white,black' 'orange,black' 'blue,green' 'gray,white' 'blue,brown'\n",
            " 'green,silver' 'orange,silver' 'gray,silver,black' 'green,brown'\n",
            " 'yellow,gray' 'red,purple' 'gray,green,silver' 'red,silver'\n",
            " 'blue,gray,silver' 'yellow,orange' 'blue,silver' 'gray,white,red' 'pink'\n",
            " 'orange,brown' 'gray,green' 'white,brown' 'gray,white,red,black'\n",
            " 'gray,white,black' 'gray,beige,black' 'brown,black' 'brown,red'\n",
            " 'blue,silver,black' 'beige,black' 'white,red' 'gray,brown,silver'\n",
            " 'yellow,beige,silver' 'yellow,black']\n",
            "--------------------------------------------------\n",
            "Unique values in interior_color_category:\n",
            "['black' 'brown' 'gray,black' 'red' 'gray' 'gray,brown' 'gray,brown,black'\n",
            " 'gray,white,brown,black' 'gray,white,brown' 'white' 'brown,black'\n",
            " 'white,brown' 'red,black' 'brown,red,black' 'brown,red'\n",
            " 'other,gray,white,brown' 'white,black' 'gray,white' 'white,brown,black'\n",
            " 'gray,white,black' 'other,gray,brown' 'other,gray,white' 'other'\n",
            " 'other,red' 'other,gray' 'gray,red' 'gray,red,black' 'other,red,black'\n",
            " 'other,brown']\n",
            "--------------------------------------------------\n",
            "Unique values in drivetrain_from_vin:\n",
            "['AWD' 'FWD' 'RWD' '4WD']\n",
            "--------------------------------------------------\n",
            "Unique values in engine_from_vin:\n",
            "['3.5L V6 DI SOHC' '3.5L V6 PGM-FI SOHC VTEC' '3.7L V6 PGM-FI SOHC VTEC'\n",
            " '2.0L I-4 DI DOHC Flex T/C' '2.0L I-4 DI DOHC T/C' '3.0L V6 DI DOHC S/C'\n",
            " '3.0L V6 DI DOHC' '4.0L V8 DI DOHC T/C' '2.0L I-4 DI VVT T/C'\n",
            " '3.0L I-6 DI DOHC T/C' '4.4L V8 DI DOHC T/C ' '3.6L V6 DI DOHC'\n",
            " '1.4L I-4 MFI DOHC T/C' '3.6L V6 DI DOHC T/C' '6.2L V8 SFI OHV Flex'\n",
            " '3.6L V6 SIDI DOHC Flex' '6.2L V8 SFI OHV' '6.2L V8 SFI OHV S/C'\n",
            " '6.2L V8 DI VVT Flex' '1.8L I-4 MFI DOHC Flex' '2.0L I-4 DI DOHC TDsl'\n",
            " '2.4L I-4 DI DOHC VVT Flex' '2.4L I-4 DI DOHC VVT' '5.3L V8 SFI Flex '\n",
            " '2.5L I-4 DI DOHC' '4.3L V6 DI Flex' '5.3L V8 DI Flex' '6.2L V8 DI'\n",
            " '6.6L V8 DI DSL T/C ' '3.6L V6 SIDI DOHC VVT' '2.4L I-4 SMPI DOHC VVT'\n",
            " '5.7L V8 SFI Hemi ' '3.6L V6 SMPI DOHC VVT' '2.4L I-4 MPI SOHC '\n",
            " '2.0L I-4 SMPI DOHC VVT' '3.6L V6 SMPI DOHC VVT Flx'\n",
            " '3.6L V6 SMPI DOHC Flex' '2.4L I-4 SFI DOHC ' '1.4L I-4 SMPI SOHC'\n",
            " '1.4L I-4 SMPI SOHC T/C' '5.4L V8 SMPI SOHC Flex'\n",
            " '3.5L V6 SFI DOHC Ti-VCT' '3.7L V6 SFI DOHC Ti-VCT'\n",
            " '1.6L I-4 DI DOHC TC Ecobt' '2.0L I-4 DI T/C Ecoboost' '2.5L I-4 MPI '\n",
            " '5.4L V8 EFI SOHC 3V ' '3.5L V6 DI T/C Ecoboost' '3.7L V6 SFI DOHC Flex'\n",
            " '5.0L V8 SMPI DOHC Flex' '6.2L V8 EFI SOHC Flex' '6.7L V8 DI OHC TDsl'\n",
            " '1.6L I-4 SFI Ti-VCT' '2.0L I-4 DI Flex Ti-VCT' '2.5L I-4 SMPI DOHC'\n",
            " '2.0L I-4 DI DOHC TC Ecobt' '1.5L I-4 DI Ecoboost' '5.0L V8 SFI HO '\n",
            " '3.7L V6 SMPI DOHC' '5.8L V8 SFI S/C I/C' '3.5L V6 DI DOHC T/C'\n",
            " '6.0L V8 SFI Flex' '4.8L V8 SFI DOHC Flex' '4.3L V6 DI VVT Flex'\n",
            " '5.3L V8 DI VVT Flex' '6.0L V8 SFI ' '2.4L I-4 DI DOHC'\n",
            " '3.5L V6 MPI SOHC VTEC ' '2.4L I-4 MPI DOHC i-VTEC' '1.8L I-4 MPI SOHC '\n",
            " '1.5L I-4 MPI SOHC i-VTEC' '1.6L I-4 DI DOHC CVVT' '1.8L I-4 MPI DOHC '\n",
            " '2.0L I-4 DI DOHC CVVT' '2.0L I-4 MPI DOHC T/C'\n",
            " '2.0L I-4 DI DOHC CVVT T/C' '2.4L I-4 DI DOHC CVVT' '3.3L V6 DI DOHC'\n",
            " '2.4L I-4 MPI CVVT Hybrid' '1.6L I-4 DI DOHC T/C'\n",
            " '3.7L V6 SMPI DOHC CVTCS' '3.5L V6 SMPI DOHC CVTCS' '5.6L V8 DI DOHC'\n",
            " '5.0L V8 DI DOHC S/C' '3.2L V6 SMPI DOHC' '3.0L V6 DI TDsl'\n",
            " '6.4L V8 SMPI OHC SRT Hemi' '2.0L I-4 DI DOHC' '1.8L I-4 MPI '\n",
            " '2.4L I-4 MPI DOHC Hybrid' '1.6L I-4 MPI DOHC ' '1.6L I-4 DI DOHC'\n",
            " '5.0L V8 DI Flex S/C' '3.0L V6 DI S/C' '3.0L V6 DI Flex S/C'\n",
            " '2.5L I-4 SFI DOHC Hybrid' '3.5L V6 DI DOHC VVT-i' '3.0 V6 DI T/C'\n",
            " '2.0L I-4 EFI DOHC ' '2.0L I-4 SFI SOHC' '3.5L V6 DI DOHC'\n",
            " '3.0L V6 SFI DOHC ' '2.0L I-4 DI T/C' '4.6L V8 DI DOHC T/C'\n",
            " '3.5L V6 SFI DOHC' '3.0L V6 DI DOHC TDsl' '5.5L V8 DI DOHC'\n",
            " '1.6L I-4 EFI DOHC T/C' '1.6L I-4 MPI DOHC' '1.6L I-4 DI OHC T/C'\n",
            " '2.0L I-4 MPI DOHC MIVEC' '1.2L I-3 MPI DOHC' '49kw Elect'\n",
            " '3.7L V6 DI DOHC' '2.5L I-4 EFI DOHC ' '4.0L V6 MPI DOHC '\n",
            " '80kw Elect AC Sync' '3.5L V6 MPI DOHC ' '5.6L V8 MPI DOHC '\n",
            " '3.7L V6 SFI DOHC CVTCS' '1.8L I-4 DI DOHC' '2.7L H-6 DI' '3.6L H-6 EFI '\n",
            " '4.8L V8 DI' '5.7L V8 MDS VVT Hemi' '6.4L V8 SMPI OHC Hemi'\n",
            " '6.7L I-6 FI TDsl HO' '3.6L V6 MPI DOHC VVT' '3.0L I-4 DI DOHC TDsl'\n",
            " '1.0L I-3 EFI DOHC' '2.5L H-4 MPI DOHC ' '2.0L H-4 DI DOHC T/C'\n",
            " '2.0L H-4 SMPI DOHC' '2.5L H-4 MPI DOHC T/C HO' '2.5L H-4 MPI SOHC '\n",
            " '3.6L H-6 EFI DOHC' '4.0L V6 SMPI VVT-i' '2.5L I-4 SFI VVT-i'\n",
            " '2.4L I4 EFI DOHC VVTi Hyb' '3.5L V6 SFI DOHC '\n",
            " '1.8L I-4 SMPI DOHC VVT-i' '3.5L V6 SMPI DOHC VVT-i'\n",
            " '1.8L I-4 EFI DOHC Hybrid' '2.5L I-4 SMPI VVT-i'\n",
            " '5.7L V8 SMPI DOHC VVT-i' '2.7L I-4 SMPI DOHC VVT-i' '1.5L I-4 EFI '\n",
            " '2.5L I-5 SMPI DOHC' '2.0L I-4 DI TDsl' '2.0L I-4 FSI DOHC'\n",
            " '1.7L I-4 DI DOHC T/C' '4.2L V8 SFI DOHC ' '3.0L I-6 DI VVT T/C'\n",
            " '19kw Electric AC Sync' '2.4L I-4 SIDI DOHC Flex'\n",
            " '3.6L V6 SIDI DOHC VVT Flx' '2.5L I-4 DI DOHC Flex'\n",
            " '3.6L V6 DI DOHC Flex' '2.0L I4 SIDI DOHC VVT T/C' '6.2L V8 DI VVT'\n",
            " '3.6L V6 SIDI DOHC VVT T/C' '6.2L V8 SFI OHV HO' '2.5L I-4 SIDI DOHC VVT'\n",
            " '6.2L V8 DI OHV VVT S/C' '6.2L V8 DI VVT Flex S/C' '6.0L V8 SFI VVT Flex'\n",
            " '1.8L I-4 SIDI DOHC VVT' '1.2L I-4 MFI DOHC VVT' '1.4L I-4 MPI PHEV'\n",
            " '2.4L I-4 SMPI SOHC' '6.2L V8 FI S/C Hemi' '2.0L I-4 SMPI DOHC Hybrid'\n",
            " '3.5L V6 SMPI DOHC Ti-VCT' '2.7L V6 DI T/C Ecoboost'\n",
            " '2.7L V6 SMPI DOHC Ti-VCT' '5.0L V8 FI Ti-VCT' '2.3L I-4 FI Ecoboost'\n",
            " '3.7L V6 SMPI Ti-VCT' '2.4L I-4 SIDI VVT Flex' '2.0L I-4 DI DOHC Hybrid'\n",
            " '1.5L I-4 DI DOHC i-VTEC' '3.8L V6 DI DOHC CVVT' '5.0L V8 DI DOHC CVVT'\n",
            " '4.6L V8 SMPI DOHC VVT-i' '2.5L V6 DI DOHC VVT-i'\n",
            " '2.0L I-4 DI DOHC VVTi T/C' '2.5L I4 EFI DOHC VVTi Hyb'\n",
            " '5.0L V8 DI DOHC 32V' '2.3L I-4 DI DOHC T/C Eco' '3.5L V6 DI Ecoboost'\n",
            " '3.7L V6 MPI DOHC 24V' '2.5L I-4 MPI DOHC VVT' '3.0L V6 DI DOHC T/C'\n",
            " '3.0L V6 CDI DOHC TDsl 24V' '1.8L I-4 DI DOHC T/C' '1.6L I-4 EFI DOHC'\n",
            " '1.5L I-3 DI DOHC T/C ' '2.4L I-4 MPI DOHC MIVEC' '3.0L V6 EFI SOHC '\n",
            " '3.5L V6 SMPI DOHC' '2.5L I-4 MPI DOHC ' '4.0L V6 DI DOHC CVTCS'\n",
            " '3.6L V6 DI DOHC 2-T/C' '3.0L V6 DI DOHC 2-T/C' '6.4L V8 MDS Hemi'\n",
            " '2.5L H-4 SMPI DOHC' '85kWh Elect ' '3.5L V6 SMPI DOHC Hybrid'\n",
            " '1.5L I-4 SMPI DOHC Hyb/El' '1.5L I-4 MPI ' '1.8L I-4 EFI DOHC T/C '\n",
            " '2.0L I-4 FSI DOHC T/C ' '1.8L I-4 FI T/C ' '3.0L I-6 MPI DOHC T/C'\n",
            " '2.4L I-4 DI DOHC i-VTEC' '2.0L I-4 DI PHEV T/C' '3.6L V6 DI DOHC VVT'\n",
            " '6.2L V8 DI OHV VVT' '6.2L V8 DI OHV VVT HO' '2.8L I-4 DI DOHC TDsl'\n",
            " '1.4L I-4 DI DOHC VVT T/C' '1.8L I-4 MFI DOHC' '1.5L I-4 DI DOHC VVT T/C'\n",
            " '1.8L I4 SIDI DOHC VVT Hyb' '1.4L I-4 MFI DOHC' '105kw Elect '\n",
            " '5.7L V8 SMPI OHC Hemi ' '1.6L I4 DI Ti-VCT T/C Eco' '23kw Elect'\n",
            " '2.3L I-4 DI Ecoboost' '1.0L I-3 DI DOHC T/C Eco' '5.2L V8 SFI Ti-VCT'\n",
            " '2.0L I-4 DI DOHC i-VTEC' '1.5L I-4 DI DOHC T/C'\n",
            " '1.8L I-4 MPI SOHC i-VTEC' '90kw Elect AC Sync'\n",
            " '2.0L I4 EFI DOHC VVTi T/C' '2.5L I-4 DI DOHC T/C'\n",
            " '4.0L V8 DI DOHC 2-T/C' '4.7L V8 DI DOHC 2-T/C'\n",
            " '2.1L I-4 DI TDsl BlueTEC' '30kw Electric AC Sync '\n",
            " '1.6L I-4 SMPI DOHC CVTCS' '5.0L V8 DI DOHC TDsl' '3.4L H-6 DI OHC'\n",
            " '2.0L H-4 DI DOHC' '2.5L I-4 EFI DOHC VVT-i' '3.6L H-6 SMPI DOHC'\n",
            " '60kWh Elect ' '2.5L I-4 EFI DOHC Hyb' '2.5L I4 SMPI DOHC Hyb'\n",
            " '3.5L V6 EFI DOHC VVT-i' '1.4L I-4 DI T/C' '1.4L I-4 DI DOHC HybT/C'\n",
            " '2.5L I-5 DI DOHC T/C' '2.0L I-4 DI DOHC S/C' '1.4L I-4 DI DOHC PHEV T/C'\n",
            " '3.0L V6 FSI DOHC S/C' '6.2L V8 SIDI VVT' '60kw Electric'\n",
            " '2.4L I-4 SIDI DOHC VVT' '5.3L V8 DI VVT Ecotec'\n",
            " '1.5L I-4 DI DOHC VVT Hyb' '3.6L V6 SMPI DOHC PHEV' '2.0L I-4 SMPI PHEV'\n",
            " '1.5L I-4 DI DOHC T/C Eco ' '2.0L I-4 SMPI Hyb Elect'\n",
            " '5.0L V8 SMPI Ti-VCT' '2.0L I-4 MPI DOHC i-VTEC' '3.5L V6 DI SOHC i-VTEC'\n",
            " '2.0L I-4 MPI DOHC ' '1.6L I-4 DI DOHC Hybrid' '3.5L V6 DI'\n",
            " '2.4L I-4 MPI DOHC ' '1.6L I-4 DI DOHC CVVT Hyb'\n",
            " '2.0L I-4 DI DOHC CVVT Hyb' '3.0L V6 DI T/C' '2.7L V6 DI' '3.0L V6 DI'\n",
            " '2.5L I-4 EFI DOHC' '1.2 I-3 MPI DOHC MIVEC' '3.0L V6 DI PHEV S/C'\n",
            " '3.6L V6 DI' '2.5L H-4 DI T/C' '2.0L H-4 DI T/C' '2.0L I-4 DI'\n",
            " '2.5L I-4 SMPI DOHC VVT-i' '1.8L I-4 EFI DOHC VVT-i '\n",
            " '1.8L I-4 EFI DOHC PHEV' '1.5L I-4 SMPI DOHC VVT-i' '3.6L V6 FSI T/C'\n",
            " '3.6L V6 FSI DOHC' '100kw Electric' '2.0L I-4 DI DOHC S/C T/C'\n",
            " '2.0L I-4 DI PHEV S/C TC ' '3.5L V6 DI SOHC Hyb iVTEC'\n",
            " '2.9L V6 DI DOHC T/C' '2.0L I-4 SIDI VVT T/C' '3.0L V6 DI DOHC VVT 2-T/C'\n",
            " '1.6L I-4 DI DOHC TDsl' '4.3L V6 SIDI VVT' '5.3L V8 DI VVT eAssist'\n",
            " '2.0L I-4 DI DOHC Ti-VCT' '1.5L I-4 DI T/C Ecoboost'\n",
            " '3.3L V6 DI Flex Ti-VCT' '3.3L V6 DI DOHC T/C' '5.0L V8 DI DOHC'\n",
            " '1.5L I-4 FI DOHC PHEV' '1.6L I-4 DI DOHC PHEV' '4.0L I-6 EFI DOHC S/C '\n",
            " '5.0L V8 DI S/C' '3.5L V6 DI DOHC VVT-i T/C' '2.7L V6 DI T/C'\n",
            " '3.0L V6 DI TDsl BlueTEC' '1.5L I-4 DI DOHC MIVEC' '2.0L I-4 MPI SOHC '\n",
            " '2.5L I-4 DI DOHC CVTCS' '110kw Elect AC Sync' '3.6L H-6 MPI DOHC'\n",
            " '54kWh Elect ' '62kWh Elect ' '75kWh Elect ' '2.5L I-4 DI DOHC VVT-i'\n",
            " '2.9L V6 DI T/C' '2.9L V6 FSI DOHC T/C' '3.0L V6 FSI DOHC T/C'\n",
            " '95kw Elect ' '2.0L I-4 DI DOHC PHEV T/C' '3.0L I-6 DI DOHC'\n",
            " '6.2L V8 DI VVT S/C' '6.0L V8 SFI CNG/Gas' '4.3L V6 SIDI VVT Flex'\n",
            " '2.7L I-4 SIDI DOHC T/C' '2.3L I-4 DI Ti-VCT Ecoboo'\n",
            " '3.2L I-5 DI DOHC TDsl' '1.5L I-4 SIDI DOHC T/C' '2.0L I-4 DI DOHC T/C '\n",
            " '3.8L V6 DI DOHC' '1.5L I-4 MPI SOHC Hybrid' '88kw Electric'\n",
            " '64kw Elect ' '2.4L I-4 DI DOHC ' '90kw Elect' '1.3L I-4 DI T/C '\n",
            " '1.6L I-4 DI DOHC PHEV ' '2.5L I-4 DI Hybrid ' '2.0L I-4 DI DOHC Hybrid '\n",
            " '2.2L I-4 DI DOHC DSL ' '3.0L I-6 DI DOHC T/C ' '3.0L V6 MPI SOHC MIVEC'\n",
            " '3.0L V6 DI PHEV' '2.4L H-4 DI DOHC T/C' '2.5L H-4 DI DOHC '\n",
            " '79.5kWh Elect ' '53.6kWh Elect ' '2.0L I-4 DI DOHC VVT-i'\n",
            " '1.6kWh Hydrogen Elect ' '3.0L V6 DI DOHC MHEV ' '2.0L I-4 DI PHEV T/C '\n",
            " '3.0L I-6 DI T/C ' '1.3L I-3 SIDI DOHC T/C ' '1.2L I-3 DI DOHC T/C '\n",
            " '2.0L I-4 SIDI DOHC T/C ' '6.2L V8 DI VVT HO '\n",
            " '6.2L V8 DI Dyn Fuel Mgmt ' '3.0L I-6 DI TDsl' '6.6L V8 DI DOHC VVT '\n",
            " '5.7L V8 SMPI Hemi ' '2.5L I-4 EFI DOHC Hybrid' '2.0L I-4 DI Ecoboost '\n",
            " '3.0L V6 DI DOHC T/C ' '3.3L V6 DI DOHC Hyb ' '7.3L V8 PFI OHV '\n",
            " '1.6L I-4 EFI DOHC VTEC ' '1.5L I-4 MPI DOHC Hybrid ' '100kw Electric '\n",
            " '64kw Elect AC Sync ' '1.6L I-4 MPI DOHC PHEV ' '3.0L I-6 DI MHEV T/C '\n",
            " '2.0L I-4 DI MHEV T/C ' '3.5L V6 DI DOHC Hybrid' '1.5L I-3 DI PHEV T/C '\n",
            " '135kW Elect ' '2.0L I-4 DOHC PHEV MIVEC ' '160kw Elect AC Sync '\n",
            " '2.9L V6 DI 2-T/C' '3.0L V6 DI PHEV T/C ' '2.0L I-4 DI T/C '\n",
            " '2.0L H-4 DI DOHC PHEV ' '2.5L H-4 SMPI DOHC T/C ' '62kw Elect '\n",
            " '100kWh Elect ' '100kw Elect ' '3.0L V6 DI T/C ' '3.0L V6 FSI MHEV T/C '\n",
            " '3.0L I-6 DI PHEV T/C ' '3.0L V6 SIDI 2-T/C ' '3.0L V6 DOHC TDsl '\n",
            " '6.2L V8 DI Ecotec ' '6.2L V8 SMPI S/C Hemi HO ' '2.5L I-4 SMPI Hybrid '\n",
            " '2.5L I-4 SMPI PHEV ' '3.5L V6 DI Hybrid T/C ' '7.3L V8 MPI OHV '\n",
            " '88kw Elect ' '68Kw Electric ' '3.5L V6 DI DOHC Flex '\n",
            " '3.0L I-6 DI DOHC TDsl ' '3.5L V6 DI T/C ' '2.5L I-4 DI T/C '\n",
            " '2.0L I-4 PFI DOHC ' '2.5L I-4 DI DOHC T/C ' '2.5L I-4 DI DOHC '\n",
            " '2.5L I-4 MPI DOHC T/C ' '2.5L I-4 DI DOHC CVVT '\n",
            " '3.0L I-6 MHEV S/C T/C ' '39.2kw Elect AC Sync ' '2.5L I-4 DI PHEV '\n",
            " '2.4L I-4 DOHC PHEV MIVEC ' '75kW Electric ' '82kWh Elect '\n",
            " '2.5L I-4 DI VVT-i Hybrid ' '1.8L I-4 SMPI DOHC Hyb ' '125kw Electric '\n",
            " '82kw Elect ' '83.9kw Electric ' '111.5kw Electric '\n",
            " '1.4L I-4 SIDI DOHC T/C ' '150kW Electric Elect '\n",
            " '6.4L V8 SMPI SRT Hemi ' '6.2L V8 SMPI S/C SRT Hmi '\n",
            " '1.3L I-4 DI SOHC T/C ' '2.3L I-4 DI T/C Ecoboost '\n",
            " '1.5L I-3 DI T/C Ecoboost ' '2.0L I-4 DI Ti-VCT '\n",
            " '3.0L V6 DI T/C Ecoboost ' '3.3L V6 DI Hybrid Ti-VCT '\n",
            " '3.5L V6 DI T/C HO ' '98kWh Elect ' '91Kw Electric ' '70Kw Electric '\n",
            " '6.6L V8 DI VVT ' '2.0L I-4 PFI DOHC Hybrid ' '1.8L I-4 FI SOHC '\n",
            " '125kW Elect ' '239kW Elect ' '168kW Elect ' '6.4L V8 SMPI OHC '\n",
            " '5.7L V8 MPI ' '3.0L V6 DI DOHC DSL ' '3.5L V6 DI DOHC '\n",
            " '160kW Electric ' '1.6L I-4 DI Hybrid T/C ' '4.6L V8 SMPI DOHC '\n",
            " '2.4L I-4 DI T/C ' '3.0L V6 EFI ' '3.5L V6 SMPI DOHC '\n",
            " '2.5L I-4 PFI PHEV ' '2.3L I-4 DI T/C Ti-VCT ' '107kW Electric '\n",
            " '66.5kW Elect ' '2.0L I-4 DI TDsl ' '2.5L I-4 DI DOHC MIVEC '\n",
            " '3.8L V6 DI DOHC ' '2.4L H-4 DI DOHC ' '2.5L I-4 DI DOHC Hybrid '\n",
            " '1.8L I-4 SMPI DOHC PHEV ' '3.5L V6 SMPI T/C ' '3.5L V6 SMPI Hybrid T/C '\n",
            " '1.5L I-4 TSI DOHC ' '2.0L I-4 TSI DOHC ' '1.5L I-4 DI DOHC T/C '\n",
            " '78kw Electric Elect ' '1.5L I-4 DI T/C VTEC ' '3.0L V6 DI DOHC '\n",
            " '2.0L I-4 DI SOHC T/C ' '2.9L V6 DI DOHC T/C ' '4.4L V8 DI T/C '\n",
            " '70.2kWh Elect ' '81kWh Elect ' '76.6kWh Elect '\n",
            " '2.7L I-4 DI DOHC T/C HO ' '2.7L I-4 DI DOHC T/C ' '6.6L V8 DI OHV '\n",
            " '113kWh Elect ' '68kWh Elect ' '131kWh Elect ' '6.7L V8 DI OHV TDsl '\n",
            " '6.7L V8 DI OHV TDsl HO ' '6.8L V8 PFI SOHC ' '2.5L I-4 SMPI DOHC Hyb '\n",
            " '3.5L V6 DI DOHC T/C Eco ' '3.5L V6 DI DOHC T/C ' '160kW Elect '\n",
            " '77.4kWh Elect ' '2.0L I-4 PI DOHC ' '1.6L I-4 DI PHEV T/C '\n",
            " '64.8kWh Electric ' '3.0L I-6 DI MHEV S/C T/C '\n",
            " '2.4L I-4 DI DOHC Hyb T/C ' '35.5kWh Elect ' '70.5kWh Elect '\n",
            " '90.6kWh Elect ' '89kWh Elect ' '2.0L I-4 DI DOHC TDsl '\n",
            " '1.5L I-3 DI T/C ' '32.6kWh Elect ' '2.4L I-4 MPI PHEV MIVEC '\n",
            " '87 kWh Elect ' '63kWh Elect ' '78kW Electric ' '6.7L I-6 DI OHV TDsl '\n",
            " '6.4L V8 SMPI OHV ' '3.6L V6 SMPI DOHC ' '72.8kWh Elect '\n",
            " '2.4L H-4 DI DOHC T/C ' '1.8L I-4 DI DOHC Hybrid '\n",
            " '1.6L I-3 DI DOHC T/C ' '2.4L I-4 DI DOHC T/C ' '2.0L I-4 DI DOHC PHEV '\n",
            " '2.5L I-4 DI DOHC PHEV ' '3.5L V6 SMPI Hyb T/C ' '3.5L V6 SMPI DOHC T/C '\n",
            " '3.5L V6 DI SOHC ' '2.0L I-4 DI DOHC GAS T/C ' '3.0L V6 DI DOHC GAS T/C '\n",
            " '102kWh ELEC ' '2.9L V6 DI DOHC 2-T/C ' '1.3L I-4 DI SOHC PHEV TC '\n",
            " '2.0L I-4 DI DOHC PHEV TC ' '114kWh Elect ' '3.0L I-6 DI DOHC 2-T/C '\n",
            " '83.9kWh Elect ' '111.5kWh Elect ' '3.6L V6 DI DOHC '\n",
            " '1.3L I-3 DI DOHC T/C ' '2.7L I-4 SIDI DOHC T/C '\n",
            " '3.6L V6 SIDI DOHC 2-T/C ' '3.0L V6 SIDI DOHC 2-T/C '\n",
            " '6.2L V8 DI OHV S/C ' '102kWh Elect ' '6.2L V8 DI OHV '\n",
            " '2.7L I-4 DI GAS T/C HO ' '2.7L I-4 DI DOHC GAS T/C '\n",
            " '6.2L V8 DI OHV HO ' '4.3L V6 DI OHV ' '5.3L V8 DI OHV '\n",
            " '6.6L V8 DI OHV TDsl ' '167kWh ELEC ' '200kWh ELEC '\n",
            " '2.5L I-4 DI DOHC GAS T/C ' '3.6L V6 PFI DOHC PHEV '\n",
            " '5.7L V8 SMPI OHV Hemi ' '6.4L V8 SMPI OHV SRTHemi '\n",
            " '1.3L I-4 DI DOHC PHEV TC ' '42kWh Elect ' '2.3L I-4 DI GAS TC Eco '\n",
            " '2.7L V6 DI GAS T/C Eco ' '2.0L I-4 DI DOHC T/C Eco '\n",
            " '1.5L I-3 DI DOHC T/C Eco ' '2.7L V6 DI DOHC 2 TC Eco '\n",
            " '2.5L I-4 SMPI DOHC PHEV ' '2.5L I-4 SMPI HYB ' '3.5L V6 DI 2-TC Eco HO '\n",
            " '3.5L V6 DI DOHC 2-TC Eco ' '2.3L I-4 DI GAS T/C Eco '\n",
            " '3.0L V6 DI GAS 2-T/C Eco ' '3.5L V6 DI GAS 2-T/C Eco '\n",
            " '3.5L V6 DI OHC HYB 2-T/C ' '2.7L V6 DI OHC GAS 2-T/C '\n",
            " '5.0L V8 DI OHC GAS ' '6.7L V8 DI OHV DSL T/C '\n",
            " '6.7L V8 DI OHV DSL TC HO ' '7.3L V8 PFI OHV GAS '\n",
            " '6.8L V8 PFI SOHC GAS ' '2.0L I-4 DI GAS T/C Eco ' '5.0L V8 DI DOHC '\n",
            " '2.3L I-4 DI DOHC T/C ' '72kWh Elect ' '91kWh Elect '\n",
            " '2.3L I-4 DI DOHC Eco ' '3.0L V6 DI DOHC 2-T/C ' '3.5L V6 DI DOHC GAS '\n",
            " '3.5L V6 DI GAS T/C Eco ' '3.3L V6 DI DOHC GAS 2TC '\n",
            " '3.5L V6 DI DOHC GAS 2TC ' '3.5L V6 DI SOHC GAS '\n",
            " '1.6L I-4 DI DOHC Hybrid ' '1.6L I-4 DI DOHC T/C ' '64.8kWh Elect '\n",
            " '1.6L I-4 DI DOHC Hyb T/C ' '2.5L I-4 DI DOHC GAS '\n",
            " '1.6L I-4 DI DOHC PHEV TC ' '1.6L I-4 DPI DOHC '\n",
            " '3.0L V6 DI DOHC GAS 2TC ' '5.6L V8 DI DOHC ' '3.0L I-6 DI DOHC S/C T/C '\n",
            " '5.0L V8 DI DOHC S/C ' '99.8kWh Elect ' '3.0L I-6 DI S/C T/C '\n",
            " '3.4L V6 DI DOHC 2-T/C ' '2.4L I-4 DI DOHC GAS T/C '\n",
            " '2.4L I-4 DI DOHC HYB T/C ' '2.4L I-4 DI Hybrid T/C '\n",
            " '2.0L I-4 DI DOHC Hyb T/C ' '3.3L I-6 DI DOHC T/C '\n",
            " '2.0L I-4 DI DOHC GAS ' '1.2L I-3 MPI DOHC ' '2.4L I-4 DI DOHC PHEV '\n",
            " '66kWh ELEC ' '91kWh ELEC ' '5.6L V8 DI DOHC GAS ' '1.6L I-4 DI DOHC '\n",
            " '40kWh Elect ' '2.0L I-4 DI DOHC ' '1.6L I-4 SMPI DOHC GAS '\n",
            " '6.4L V8 SMPI OHV Hemi ' '6.7L I-6 DI OHV TDsl HO ' '2.0L H-4 DI DOHC '\n",
            " '72.8kWh ELEC ' '4.0L V6 SMPI DOHC ' '2.0L I-4 DI DOHC HYB '\n",
            " '1.6L I-3 DI DOHC GAS T/C ' '2.4L H-4 DI DOHC GAS '\n",
            " '3.5L V6 DI Hybrid 2TC ' '3.5L V6 DI DOHC 2-T/C '\n",
            " '3.5L V6 DI Hybrid 2-T/C ' '71.4kWh Elect ' '78kWh Elect '\n",
            " '2.0L I-4 DI DOHC S/C T/C ']\n",
            "--------------------------------------------------\n",
            "Unique values in transmission_from_vin:\n",
            "['A' 'M']\n",
            "--------------------------------------------------\n",
            "Unique values in fuel_type_from_vin:\n",
            "['Gas' 'Diesel' 'Hybrid' 'Electric' 'PHEV' 'CNG' 'Hydrogen']\n",
            "--------------------------------------------------\n"
          ]
        }
      ]
    },
    {
      "cell_type": "code",
      "source": [
        "# Check frequency of each value in the column\n",
        "print(df[\"transmission_from_vin\"].value_counts())"
      ],
      "metadata": {
        "colab": {
          "base_uri": "https://localhost:8080/"
        },
        "id": "4FeHqbKBYdzT",
        "outputId": "570f24d6-7c96-43af-d011-393d26b3fa85"
      },
      "execution_count": null,
      "outputs": [
        {
          "output_type": "stream",
          "name": "stdout",
          "text": [
            "transmission_from_vin\n",
            "A    102484\n",
            "M      2566\n",
            "7        19\n",
            "6         2\n",
            "Name: count, dtype: int64\n"
          ]
        }
      ]
    },
    {
      "cell_type": "code",
      "source": [
        "# Find the most common valid transmission type (A or M)\n",
        "most_common_transmission = df[df[\"transmission_from_vin\"].isin([\"A\", \"M\"])][\"transmission_from_vin\"].mode()[0]\n",
        "\n",
        "# Replace '6' and '7' with the most common valid value\n",
        "df[\"transmission_from_vin\"] = df[\"transmission_from_vin\"].replace({\"6\": most_common_transmission, \"7\": most_common_transmission})\n",
        "\n",
        "# Check updated unique values\n",
        "print(df[\"transmission_from_vin\"].unique())"
      ],
      "metadata": {
        "colab": {
          "base_uri": "https://localhost:8080/"
        },
        "id": "OcjBtzBAYhqZ",
        "outputId": "73a63ad5-a9b6-4eaa-96ab-770bbc6f1820"
      },
      "execution_count": null,
      "outputs": [
        {
          "output_type": "stream",
          "name": "stdout",
          "text": [
            "['A' 'M']\n"
          ]
        }
      ]
    },
    {
      "cell_type": "code",
      "source": [
        "# Define target variable (y) and feature set (X)\n",
        "X = df.drop(columns=['price'])  # Dropping target variable\n",
        "y = df['price']  # Target variable"
      ],
      "metadata": {
        "id": "714ihe9y3v7r"
      },
      "execution_count": null,
      "outputs": []
    },
    {
      "cell_type": "code",
      "source": [
        "from sklearn.model_selection import train_test_split\n",
        "\n",
        "# Split the dataset into training (80%) and testing (20%) sets\n",
        "X_train, X_test, y_train, y_test = train_test_split(X, y, test_size=0.2, random_state=42)\n",
        "\n",
        "# Check dataset shapes\n",
        "print(\"Training set size:\", X_train.shape, y_train.shape)\n",
        "print(\"Testing set size:\", X_test.shape, y_test.shape)\n"
      ],
      "metadata": {
        "colab": {
          "base_uri": "https://localhost:8080/"
        },
        "id": "n2aj7Xvraooz",
        "outputId": "dd0f7b71-13a3-4bd9-ea88-76211a84e93f"
      },
      "execution_count": null,
      "outputs": [
        {
          "output_type": "stream",
          "name": "stdout",
          "text": [
            "Training set size: (84056, 14) (84056,)\n",
            "Testing set size: (21015, 14) (21015,)\n"
          ]
        }
      ]
    },
    {
      "cell_type": "code",
      "source": [
        "print(X_train.columns)\n",
        "print(X_test.columns)"
      ],
      "metadata": {
        "colab": {
          "base_uri": "https://localhost:8080/"
        },
        "id": "j00mJBMEWBaj",
        "outputId": "ae806a62-bbb0-499b-bd05-b89ea2a017e7"
      },
      "execution_count": null,
      "outputs": [
        {
          "output_type": "stream",
          "name": "stdout",
          "text": [
            "Index(['listing_type', 'stock_type', 'mileage', 'msrp', 'model_year', 'make',\n",
            "       'model', 'certified', 'exterior_color_category',\n",
            "       'interior_color_category', 'drivetrain_from_vin', 'engine_from_vin',\n",
            "       'transmission_from_vin', 'fuel_type_from_vin'],\n",
            "      dtype='object')\n",
            "Index(['listing_type', 'stock_type', 'mileage', 'msrp', 'model_year', 'make',\n",
            "       'model', 'certified', 'exterior_color_category',\n",
            "       'interior_color_category', 'drivetrain_from_vin', 'engine_from_vin',\n",
            "       'transmission_from_vin', 'fuel_type_from_vin'],\n",
            "      dtype='object')\n"
          ]
        }
      ]
    },
    {
      "cell_type": "code",
      "source": [
        "from sklearn.preprocessing import LabelEncoder\n",
        "\n",
        "# Label Encoding for Binary Columns (2 unique values)\n",
        "for col in [\"transmission_from_vin\", \"stock_type\", \"listing_type\"]:\n",
        "    X[col] = LabelEncoder().fit_transform(X[col])\n",
        "\n",
        "# Ordinal Encoding for `drivetrain_from_vin` (Fixing the warning)\n",
        "drivetrain_mapping = {'FWD': 0, 'RWD': 1, 'AWD': 2, '4WD': 3}\n",
        "X[\"drivetrain_from_vin\"] = X[\"drivetrain_from_vin\"].replace(drivetrain_mapping).astype(int)\n",
        "\n",
        "# Label Encoding for `fuel_type_from_vin`\n",
        "X[\"fuel_type_from_vin\"] = LabelEncoder().fit_transform(X[\"fuel_type_from_vin\"])\n",
        "\n",
        "# Label Encoding for High-Cardinality Columns\n",
        "for col in [\"engine_from_vin\", \"exterior_color_category\", \"interior_color_category\", \"model\", \"make\"]:\n",
        "    X[col] = LabelEncoder().fit_transform(X[col])\n",
        "\n",
        "# Check if all categorical columns are converted to numerical\n",
        "print(X.dtypes)"
      ],
      "metadata": {
        "colab": {
          "base_uri": "https://localhost:8080/"
        },
        "id": "QOIQWHEFHwlY",
        "outputId": "f451c4a3-109b-4580-972d-c09171b3a2cc"
      },
      "execution_count": null,
      "outputs": [
        {
          "output_type": "stream",
          "name": "stdout",
          "text": [
            "listing_type               int64\n",
            "stock_type                 int64\n",
            "mileage                    int64\n",
            "msrp                       int64\n",
            "model_year                 int64\n",
            "make                       int64\n",
            "model                      int64\n",
            "certified                  int64\n",
            "exterior_color_category    int64\n",
            "interior_color_category    int64\n",
            "drivetrain_from_vin        int64\n",
            "engine_from_vin            int64\n",
            "transmission_from_vin      int64\n",
            "fuel_type_from_vin         int64\n",
            "dtype: object\n"
          ]
        },
        {
          "output_type": "stream",
          "name": "stderr",
          "text": [
            "<ipython-input-24-47ebad4bf1e3>:9: FutureWarning: Downcasting behavior in `replace` is deprecated and will be removed in a future version. To retain the old behavior, explicitly call `result.infer_objects(copy=False)`. To opt-in to the future behavior, set `pd.set_option('future.no_silent_downcasting', True)`\n",
            "  X[\"drivetrain_from_vin\"] = X[\"drivetrain_from_vin\"].replace(drivetrain_mapping).astype(int)  # ✅ FIXED\n"
          ]
        }
      ]
    },
    {
      "cell_type": "code",
      "source": [
        "# from sklearn.preprocessing import StandardScaler\n",
        "# # Initialize StandardScaler\n",
        "# scaler = StandardScaler()\n",
        "\n",
        "# # Fit & Transform on training data\n",
        "# X_train_scaled = scaler.fit_transform(X_train_encoded)\n",
        "\n",
        "# # Transform test data\n",
        "# X_test_scaled = scaler.transform(X_test_encoded)\n",
        "# #\n",
        "# # Convert back to DataFrame\n",
        "# X_train_scaled = pd.DataFrame(X_train_scaled)\n",
        "# X_test_scaled = pd.DataFrame(X_test_scaled)\n",
        "\n",
        "# print(\"X_train shape after scaling:\", X_train_scaled.shape)\n",
        "# print(\"X_test shape after scaling:\", X_test_scaled.shape)\n"
      ],
      "metadata": {
        "id": "G9HaBE37bS2A"
      },
      "execution_count": null,
      "outputs": []
    },
    {
      "cell_type": "code",
      "source": [
        "from sklearn.linear_model import LinearRegression\n",
        "from sklearn.metrics import mean_absolute_error, mean_squared_error, r2_score\n",
        "\n",
        "# Ensure dataset is properly split\n",
        "X_train, X_test, y_train, y_test = train_test_split(X, y, test_size=0.2, random_state=42)\n",
        "\n",
        "# Instantiate the Linear Regression model\n",
        "linear_regression_model = LinearRegression()\n",
        "\n",
        "# Train the model on training data\n",
        "linear_regression_model.fit(X_train, y_train)\n",
        "\n",
        "# Make predictions on test data\n",
        "y_pred = linear_regression_model.predict(X_test)\n",
        "\n",
        "# Calculate performance metrics\n",
        "mae = mean_absolute_error(y_test, y_pred)\n",
        "mse = mean_squared_error(y_test, y_pred)\n",
        "rmse = mse ** 0.5\n",
        "r2 = r2_score(y_test, y_pred)\n",
        "\n",
        "\n",
        "# Print evaluation metrics\n",
        "print(\"Model Performance Metrics:\")\n",
        "print(f\"Mean Absolute Error (MAE): {mae:.2f}\")\n",
        "print(f\"Mean Squared Error (MSE): {mse:.2f}\")\n",
        "print(f\"Root Mean Squared Error (RMSE): {rmse:.2f}\")\n",
        "print(f\"R-squared Score (R²): {r2:.4f}\")\n"
      ],
      "metadata": {
        "id": "wZtijq6oH0FN",
        "colab": {
          "base_uri": "https://localhost:8080/"
        },
        "outputId": "4ac2a541-d9f6-46c6-d8df-eacc8d8a464d"
      },
      "execution_count": null,
      "outputs": [
        {
          "output_type": "stream",
          "name": "stdout",
          "text": [
            "Model Performance Metrics:\n",
            "Mean Absolute Error (MAE): 6696.43\n",
            "Mean Squared Error (MSE): 139685542.00\n",
            "Root Mean Squared Error (RMSE): 11818.86\n",
            "R-squared Score (R²): 0.7570\n"
          ]
        }
      ]
    },
    {
      "cell_type": "code",
      "source": [
        "from sklearn.preprocessing import LabelEncoder\n",
        "\n",
        "# Encode any remaining categorical columns\n",
        "label_encoders = {}  # Store encoders for each column\n",
        "\n",
        "for col in X_train.select_dtypes(include=['object']).columns:\n",
        "    label_encoders[col] = LabelEncoder()  # Create a new LabelEncoder for each column\n",
        "    X_train[col] = label_encoders[col].fit_transform(X_train[col])  # Fit & transform training data\n",
        "    X_test[col] = label_encoders[col].transform(X_test[col])  # Only transform test data (avoid unseen errors)\n",
        "\n",
        "# Train the Linear Regression model\n",
        "linear_regression_model = LinearRegression()\n",
        "linear_regression_model.fit(X_train, y_train)\n",
        "\n",
        "# Make predictions\n",
        "y_pred = linear_regression_model.predict(X_test)\n",
        "\n",
        "# Evaluate performance\n",
        "mae = mean_absolute_error(y_test, y_pred)\n",
        "mse = mean_squared_error(y_test, y_pred)\n",
        "rmse = mse ** 0.5\n",
        "r2 = r2_score(y_test, y_pred)\n",
        "\n",
        "# Print results\n",
        "print(\"Model Performance Metrics:\")\n",
        "print(f\"Mean Absolute Error (MAE): {mae:.2f}\")\n",
        "print(f\"Mean Squared Error (MSE): {mse:.2f}\")\n",
        "print(f\"Root Mean Squared Error (RMSE): {rmse:.2f}\")\n",
        "print(f\"R-squared Score (R²): {r2:.4f}\")\n"
      ],
      "metadata": {
        "colab": {
          "base_uri": "https://localhost:8080/"
        },
        "id": "mftLnTFseWKa",
        "outputId": "5154dc86-e4b6-48e1-cd75-2f4add84e443"
      },
      "execution_count": null,
      "outputs": [
        {
          "output_type": "stream",
          "name": "stdout",
          "text": [
            "Model Performance Metrics:\n",
            "Mean Absolute Error (MAE): 6696.43\n",
            "Mean Squared Error (MSE): 139685542.00\n",
            "Root Mean Squared Error (RMSE): 11818.86\n",
            "R-squared Score (R²): 0.7570\n"
          ]
        }
      ]
    },
    {
      "cell_type": "code",
      "source": [
        "from sklearn.ensemble import RandomForestRegressor\n",
        "from sklearn.metrics import r2_score, mean_squared_error\n",
        "import numpy as np\n",
        "\n",
        "# Instantiate Random Forest model\n",
        "rf_model = RandomForestRegressor(n_estimators=100, random_state=42)\n",
        "\n",
        "# Fit the model\n",
        "rf_model.fit(X_train, y_train)\n",
        "\n",
        "# Make predictions\n",
        "y_pred_rf = rf_model.predict(X_test)\n",
        "\n",
        "# Compute RMSE and R² Score\n",
        "r2_rf = r2_score(y_test, y_pred_rf)\n",
        "rmse_rf = np.sqrt(mean_squared_error(y_test, y_pred_rf))\n",
        "\n",
        "# Print results\n",
        "print(f\"Random Forest R² Score: {r2_rf:.4f}\")\n",
        "print(f\"Random Forest RMSE: {rmse_rf:.2f}\")\n"
      ],
      "metadata": {
        "colab": {
          "base_uri": "https://localhost:8080/"
        },
        "id": "sz1SoWCrIrC9",
        "outputId": "95d232d1-8b7f-4c2a-9afa-974b7e008aa3"
      },
      "execution_count": null,
      "outputs": [
        {
          "output_type": "stream",
          "name": "stdout",
          "text": [
            "Random Forest R² Score: 0.8141\n",
            "Random Forest RMSE: 10336.97\n"
          ]
        }
      ]
    },
    {
      "cell_type": "code",
      "source": [],
      "metadata": {
        "colab": {
          "base_uri": "https://localhost:8080/",
          "height": 17
        },
        "id": "uku5hrjCOr8b",
        "outputId": "004678a3-8bb1-44f9-9804-33cfa735ddae"
      },
      "execution_count": null,
      "outputs": [
        {
          "output_type": "display_data",
          "data": {
            "text/plain": [
              "<IPython.core.display.Javascript object>"
            ],
            "application/javascript": [
              "\n",
              "    async function download(id, filename, size) {\n",
              "      if (!google.colab.kernel.accessAllowed) {\n",
              "        return;\n",
              "      }\n",
              "      const div = document.createElement('div');\n",
              "      const label = document.createElement('label');\n",
              "      label.textContent = `Downloading \"${filename}\": `;\n",
              "      div.appendChild(label);\n",
              "      const progress = document.createElement('progress');\n",
              "      progress.max = size;\n",
              "      div.appendChild(progress);\n",
              "      document.body.appendChild(div);\n",
              "\n",
              "      const buffers = [];\n",
              "      let downloaded = 0;\n",
              "\n",
              "      const channel = await google.colab.kernel.comms.open(id);\n",
              "      // Send a message to notify the kernel that we're ready.\n",
              "      channel.send({})\n",
              "\n",
              "      for await (const message of channel.messages) {\n",
              "        // Send a message to notify the kernel that we're ready.\n",
              "        channel.send({})\n",
              "        if (message.buffers) {\n",
              "          for (const buffer of message.buffers) {\n",
              "            buffers.push(buffer);\n",
              "            downloaded += buffer.byteLength;\n",
              "            progress.value = downloaded;\n",
              "          }\n",
              "        }\n",
              "      }\n",
              "      const blob = new Blob(buffers, {type: 'application/binary'});\n",
              "      const a = document.createElement('a');\n",
              "      a.href = window.URL.createObjectURL(blob);\n",
              "      a.download = filename;\n",
              "      div.appendChild(a);\n",
              "      a.click();\n",
              "      div.remove();\n",
              "    }\n",
              "  "
            ]
          },
          "metadata": {}
        },
        {
          "output_type": "display_data",
          "data": {
            "text/plain": [
              "<IPython.core.display.Javascript object>"
            ],
            "application/javascript": [
              "download(\"download_4acde443-f9f4-4a24-8748-bce12cb19314\", \"X_train.csv\", 3577291)"
            ]
          },
          "metadata": {}
        },
        {
          "output_type": "display_data",
          "data": {
            "text/plain": [
              "<IPython.core.display.Javascript object>"
            ],
            "application/javascript": [
              "\n",
              "    async function download(id, filename, size) {\n",
              "      if (!google.colab.kernel.accessAllowed) {\n",
              "        return;\n",
              "      }\n",
              "      const div = document.createElement('div');\n",
              "      const label = document.createElement('label');\n",
              "      label.textContent = `Downloading \"${filename}\": `;\n",
              "      div.appendChild(label);\n",
              "      const progress = document.createElement('progress');\n",
              "      progress.max = size;\n",
              "      div.appendChild(progress);\n",
              "      document.body.appendChild(div);\n",
              "\n",
              "      const buffers = [];\n",
              "      let downloaded = 0;\n",
              "\n",
              "      const channel = await google.colab.kernel.comms.open(id);\n",
              "      // Send a message to notify the kernel that we're ready.\n",
              "      channel.send({})\n",
              "\n",
              "      for await (const message of channel.messages) {\n",
              "        // Send a message to notify the kernel that we're ready.\n",
              "        channel.send({})\n",
              "        if (message.buffers) {\n",
              "          for (const buffer of message.buffers) {\n",
              "            buffers.push(buffer);\n",
              "            downloaded += buffer.byteLength;\n",
              "            progress.value = downloaded;\n",
              "          }\n",
              "        }\n",
              "      }\n",
              "      const blob = new Blob(buffers, {type: 'application/binary'});\n",
              "      const a = document.createElement('a');\n",
              "      a.href = window.URL.createObjectURL(blob);\n",
              "      a.download = filename;\n",
              "      div.appendChild(a);\n",
              "      a.click();\n",
              "      div.remove();\n",
              "    }\n",
              "  "
            ]
          },
          "metadata": {}
        },
        {
          "output_type": "display_data",
          "data": {
            "text/plain": [
              "<IPython.core.display.Javascript object>"
            ],
            "application/javascript": [
              "download(\"download_1eead3df-ae4d-41e7-930a-52e1ea76d1cb\", \"X_test.csv\", 895111)"
            ]
          },
          "metadata": {}
        },
        {
          "output_type": "display_data",
          "data": {
            "text/plain": [
              "<IPython.core.display.Javascript object>"
            ],
            "application/javascript": [
              "\n",
              "    async function download(id, filename, size) {\n",
              "      if (!google.colab.kernel.accessAllowed) {\n",
              "        return;\n",
              "      }\n",
              "      const div = document.createElement('div');\n",
              "      const label = document.createElement('label');\n",
              "      label.textContent = `Downloading \"${filename}\": `;\n",
              "      div.appendChild(label);\n",
              "      const progress = document.createElement('progress');\n",
              "      progress.max = size;\n",
              "      div.appendChild(progress);\n",
              "      document.body.appendChild(div);\n",
              "\n",
              "      const buffers = [];\n",
              "      let downloaded = 0;\n",
              "\n",
              "      const channel = await google.colab.kernel.comms.open(id);\n",
              "      // Send a message to notify the kernel that we're ready.\n",
              "      channel.send({})\n",
              "\n",
              "      for await (const message of channel.messages) {\n",
              "        // Send a message to notify the kernel that we're ready.\n",
              "        channel.send({})\n",
              "        if (message.buffers) {\n",
              "          for (const buffer of message.buffers) {\n",
              "            buffers.push(buffer);\n",
              "            downloaded += buffer.byteLength;\n",
              "            progress.value = downloaded;\n",
              "          }\n",
              "        }\n",
              "      }\n",
              "      const blob = new Blob(buffers, {type: 'application/binary'});\n",
              "      const a = document.createElement('a');\n",
              "      a.href = window.URL.createObjectURL(blob);\n",
              "      a.download = filename;\n",
              "      div.appendChild(a);\n",
              "      a.click();\n",
              "      div.remove();\n",
              "    }\n",
              "  "
            ]
          },
          "metadata": {}
        },
        {
          "output_type": "display_data",
          "data": {
            "text/plain": [
              "<IPython.core.display.Javascript object>"
            ],
            "application/javascript": [
              "download(\"download_ee143427-9ccf-4196-a288-47df5157d31a\", \"y_train.csv\", 497073)"
            ]
          },
          "metadata": {}
        },
        {
          "output_type": "display_data",
          "data": {
            "text/plain": [
              "<IPython.core.display.Javascript object>"
            ],
            "application/javascript": [
              "\n",
              "    async function download(id, filename, size) {\n",
              "      if (!google.colab.kernel.accessAllowed) {\n",
              "        return;\n",
              "      }\n",
              "      const div = document.createElement('div');\n",
              "      const label = document.createElement('label');\n",
              "      label.textContent = `Downloading \"${filename}\": `;\n",
              "      div.appendChild(label);\n",
              "      const progress = document.createElement('progress');\n",
              "      progress.max = size;\n",
              "      div.appendChild(progress);\n",
              "      document.body.appendChild(div);\n",
              "\n",
              "      const buffers = [];\n",
              "      let downloaded = 0;\n",
              "\n",
              "      const channel = await google.colab.kernel.comms.open(id);\n",
              "      // Send a message to notify the kernel that we're ready.\n",
              "      channel.send({})\n",
              "\n",
              "      for await (const message of channel.messages) {\n",
              "        // Send a message to notify the kernel that we're ready.\n",
              "        channel.send({})\n",
              "        if (message.buffers) {\n",
              "          for (const buffer of message.buffers) {\n",
              "            buffers.push(buffer);\n",
              "            downloaded += buffer.byteLength;\n",
              "            progress.value = downloaded;\n",
              "          }\n",
              "        }\n",
              "      }\n",
              "      const blob = new Blob(buffers, {type: 'application/binary'});\n",
              "      const a = document.createElement('a');\n",
              "      a.href = window.URL.createObjectURL(blob);\n",
              "      a.download = filename;\n",
              "      div.appendChild(a);\n",
              "      a.click();\n",
              "      div.remove();\n",
              "    }\n",
              "  "
            ]
          },
          "metadata": {}
        },
        {
          "output_type": "display_data",
          "data": {
            "text/plain": [
              "<IPython.core.display.Javascript object>"
            ],
            "application/javascript": [
              "download(\"download_8ed544e2-1827-4a77-bb0a-4e1935052f19\", \"y_test.csv\", 124388)"
            ]
          },
          "metadata": {}
        }
      ]
    }
  ]
}